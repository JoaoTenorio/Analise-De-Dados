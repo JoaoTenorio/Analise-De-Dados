{
  "cells":[
    {
      "cell_type":"code",
      "source":[
        "import pandas as pd\n",
        "import matplotlib.pyplot as plt\n",
        "import seaborn as sns\n",
        "import numpy as np"
      ],
      "execution_count":1,
      "outputs":[
        
      ],
      "metadata":{
        "datalore":{
          "sheet_delimiter":false
        }
      }
    },
    {
      "cell_type":"code",
      "source":[
        "df = pd.read_excel('case_internacao_SUS.xls')\n",
        "df.shape"
      ],
      "execution_count":2,
      "outputs":[
        {
          "data":{
            "text\/plain":[
              "(38, 16)"
            ]
          },
          "metadata":{
            
          },
          "output_type":"display_data"
        }
      ],
      "metadata":{
        "datalore":{
          "sheet_delimiter":false
        }
      }
    },
    {
      "cell_type":"code",
      "source":[
        "print(df.columns)"
      ],
      "execution_count":3,
      "outputs":[
        {
          "name":"stdout",
          "text":[
            "Index(['Região\/Unidade da Federação', 'Internações', 'AIH_aprovadas',\n",
            "       'Valor_total', 'Valor_serviços_hospitalares',\n",
            "       'Val_serv_hosp_-_compl_federal', 'Val_serv_hosp_-_compl_gestor',\n",
            "       'Valor_serviços_profissionais', 'Val_serv_prof_-_compl_federal',\n",
            "       'Val_serv_prof_-_compl_gestor', 'Valor_médio_AIH', 'Valor_médio_intern',\n",
            "       'Dias_permanência', 'Média_permanência', 'Óbitos', 'Taxa_mortalidade'],\n",
            "      dtype='object')\n"
          ],
          "output_type":"stream"
        }
      ],
      "metadata":{
        "datalore":{
          "sheet_delimiter":false
        }
      }
    },
    {
      "cell_type":"code",
      "source":[
        "print(pd.value_counts(df['Região\/Unidade da Federação']))"
      ],
      "execution_count":4,
      "outputs":[
        {
          "name":"stdout",
          "text":[
            "Região Norte              1\n",
            "Região Sudeste            1\n",
            "Total                     1\n",
            ".. Distrito Federal       1\n",
            ".. Goiás                  1\n",
            ".. Mato Grosso            1\n",
            ".. Mato Grosso do Sul     1\n",
            "Região Centro-Oeste       1\n",
            ".. Rio Grande do Sul      1\n",
            ".. Santa Catarina         1\n",
            ".. Paraná                 1\n",
            "Região Sul                1\n",
            ".. São Paulo              1\n",
            ".. Rio de Janeiro         1\n",
            ".. Espírito Santo         1\n",
            ".. Minas Gerais           1\n",
            ".. Bahia                  1\n",
            ".. Rondônia               1\n",
            ".. Sergipe                1\n",
            ".. Alagoas                1\n",
            ".. Pernambuco             1\n",
            ".. Paraíba                1\n",
            ".. Rio Grande do Norte    1\n",
            ".. Ceará                  1\n",
            ".. Piauí                  1\n",
            ".. Maranhão               1\n",
            "Região Nordeste           1\n",
            ".. Tocantins              1\n",
            ".. Amapá                  1\n",
            ".. Pará                   1\n",
            ".. Roraima                1\n",
            ".. Amazonas               1\n",
            "                          1\n",
            "Name: Região\/Unidade da Federação, dtype: int64\n"
          ],
          "output_type":"stream"
        }
      ],
      "metadata":{
        "datalore":{
          "sheet_delimiter":false
        }
      }
    },
    {
      "cell_type":"code",
      "source":[
        "df"
      ],
      "execution_count":5,
      "outputs":[
        {
          "data":{
            "text\/html":[
              "<div>\n",
              "<style scoped>\n",
              "    .dataframe tbody tr th:only-of-type {\n",
              "        vertical-align: middle;\n",
              "    }\n",
              "\n",
              "    .dataframe tbody tr th {\n",
              "        vertical-align: top;\n",
              "    }\n",
              "\n",
              "    .dataframe thead th {\n",
              "        text-align: right;\n",
              "    }\n",
              "<\/style>\n",
              "<table border=\"1\" class=\"dataframe\">\n",
              "  <thead>\n",
              "    <tr style=\"text-align: right;\">\n",
              "      <th><\/th>\n",
              "      <th>Região\/Unidade da Federação<\/th>\n",
              "      <th>Internações<\/th>\n",
              "      <th>AIH_aprovadas<\/th>\n",
              "      <th>Valor_total<\/th>\n",
              "      <th>Valor_serviços_hospitalares<\/th>\n",
              "      <th>Val_serv_hosp_-_compl_federal<\/th>\n",
              "      <th>Val_serv_hosp_-_compl_gestor<\/th>\n",
              "      <th>Valor_serviços_profissionais<\/th>\n",
              "      <th>Val_serv_prof_-_compl_federal<\/th>\n",
              "      <th>Val_serv_prof_-_compl_gestor<\/th>\n",
              "      <th>Valor_médio_AIH<\/th>\n",
              "      <th>Valor_médio_intern<\/th>\n",
              "      <th>Dias_permanência<\/th>\n",
              "      <th>Média_permanência<\/th>\n",
              "      <th>Óbitos<\/th>\n",
              "      <th>Taxa_mortalidade<\/th>\n",
              "    <\/tr>\n",
              "  <\/thead>\n",
              "  <tbody>\n",
              "    <tr>\n",
              "      <th>0<\/th>\n",
              "      <td>Região Norte<\/td>\n",
              "      <td>75363.0<\/td>\n",
              "      <td>75363.0<\/td>\n",
              "      <td>6.582182e+07<\/td>\n",
              "      <td>5.059227e+07<\/td>\n",
              "      <td>282125.28<\/td>\n",
              "      <td>-<\/td>\n",
              "      <td>1.482012e+07<\/td>\n",
              "      <td>-<\/td>\n",
              "      <td>-<\/td>\n",
              "      <td>873.40<\/td>\n",
              "      <td>873.40<\/td>\n",
              "      <td>358202.0<\/td>\n",
              "      <td>4.8<\/td>\n",
              "      <td>2149.0<\/td>\n",
              "      <td>2.85<\/td>\n",
              "    <\/tr>\n",
              "    <tr>\n",
              "      <th>1<\/th>\n",
              "      <td>.. Rondônia<\/td>\n",
              "      <td>9603.0<\/td>\n",
              "      <td>9603.0<\/td>\n",
              "      <td>9.404751e+06<\/td>\n",
              "      <td>7.666946e+06<\/td>\n",
              "      <td>-<\/td>\n",
              "      <td>-<\/td>\n",
              "      <td>1.737806e+06<\/td>\n",
              "      <td>-<\/td>\n",
              "      <td>-<\/td>\n",
              "      <td>979.36<\/td>\n",
              "      <td>979.36<\/td>\n",
              "      <td>53043.0<\/td>\n",
              "      <td>5.5<\/td>\n",
              "      <td>315.0<\/td>\n",
              "      <td>3.28<\/td>\n",
              "    <\/tr>\n",
              "    <tr>\n",
              "      <th>2<\/th>\n",
              "      <td>.. Amazonas<\/td>\n",
              "      <td>16248.0<\/td>\n",
              "      <td>16248.0<\/td>\n",
              "      <td>1.562431e+07<\/td>\n",
              "      <td>1.216663e+07<\/td>\n",
              "      <td>1221.31<\/td>\n",
              "      <td>-<\/td>\n",
              "      <td>3.455638e+06<\/td>\n",
              "      <td>-<\/td>\n",
              "      <td>-<\/td>\n",
              "      <td>961.61<\/td>\n",
              "      <td>961.61<\/td>\n",
              "      <td>85512.0<\/td>\n",
              "      <td>5.3<\/td>\n",
              "      <td>536.0<\/td>\n",
              "      <td>3.30<\/td>\n",
              "    <\/tr>\n",
              "    <tr>\n",
              "      <th>3<\/th>\n",
              "      <td>.. Roraima<\/td>\n",
              "      <td>4324.0<\/td>\n",
              "      <td>4324.0<\/td>\n",
              "      <td>3.137537e+06<\/td>\n",
              "      <td>2.356232e+06<\/td>\n",
              "      <td>-<\/td>\n",
              "      <td>-<\/td>\n",
              "      <td>7.813057e+05<\/td>\n",
              "      <td>-<\/td>\n",
              "      <td>-<\/td>\n",
              "      <td>725.61<\/td>\n",
              "      <td>725.61<\/td>\n",
              "      <td>25560.0<\/td>\n",
              "      <td>5.9<\/td>\n",
              "      <td>171.0<\/td>\n",
              "      <td>3.95<\/td>\n",
              "    <\/tr>\n",
              "    <tr>\n",
              "      <th>4<\/th>\n",
              "      <td>.. Pará<\/td>\n",
              "      <td>34774.0<\/td>\n",
              "      <td>34774.0<\/td>\n",
              "      <td>2.817863e+07<\/td>\n",
              "      <td>2.124135e+07<\/td>\n",
              "      <td>248197.25<\/td>\n",
              "      <td>-<\/td>\n",
              "      <td>6.581739e+06<\/td>\n",
              "      <td>-<\/td>\n",
              "      <td>-<\/td>\n",
              "      <td>810.34<\/td>\n",
              "      <td>810.34<\/td>\n",
              "      <td>138135.0<\/td>\n",
              "      <td>4.0<\/td>\n",
              "      <td>832.0<\/td>\n",
              "      <td>2.39<\/td>\n",
              "    <\/tr>\n",
              "    <tr>\n",
              "      <th>5<\/th>\n",
              "      <td>.. Amapá<\/td>\n",
              "      <td>3407.0<\/td>\n",
              "      <td>3407.0<\/td>\n",
              "      <td>2.380728e+06<\/td>\n",
              "      <td>1.776869e+06<\/td>\n",
              "      <td>-<\/td>\n",
              "      <td>-<\/td>\n",
              "      <td>6.038583e+05<\/td>\n",
              "      <td>-<\/td>\n",
              "      <td>-<\/td>\n",
              "      <td>698.78<\/td>\n",
              "      <td>698.78<\/td>\n",
              "      <td>18703.0<\/td>\n",
              "      <td>5.5<\/td>\n",
              "      <td>85.0<\/td>\n",
              "      <td>2.49<\/td>\n",
              "    <\/tr>\n",
              "    <tr>\n",
              "      <th>6<\/th>\n",
              "      <td>.. Tocantins<\/td>\n",
              "      <td>7007.0<\/td>\n",
              "      <td>7007.0<\/td>\n",
              "      <td>7.095859e+06<\/td>\n",
              "      <td>5.384238e+06<\/td>\n",
              "      <td>32706.72<\/td>\n",
              "      <td>-<\/td>\n",
              "      <td>1.659776e+06<\/td>\n",
              "      <td>-<\/td>\n",
              "      <td>-<\/td>\n",
              "      <td>1012.68<\/td>\n",
              "      <td>1012.68<\/td>\n",
              "      <td>37249.0<\/td>\n",
              "      <td>5.3<\/td>\n",
              "      <td>210.0<\/td>\n",
              "      <td>3.00<\/td>\n",
              "    <\/tr>\n",
              "    <tr>\n",
              "      <th>7<\/th>\n",
              "      <td>Região Nordeste<\/td>\n",
              "      <td>267944.0<\/td>\n",
              "      <td>271043.0<\/td>\n",
              "      <td>3.130741e+08<\/td>\n",
              "      <td>2.454389e+08<\/td>\n",
              "      <td>1563326.93<\/td>\n",
              "      <td>29897.6<\/td>\n",
              "      <td>6.524551e+07<\/td>\n",
              "      <td>29897.6<\/td>\n",
              "      <td>27798.96<\/td>\n",
              "      <td>1155.07<\/td>\n",
              "      <td>1168.43<\/td>\n",
              "      <td>1395106.0<\/td>\n",
              "      <td>5.2<\/td>\n",
              "      <td>10575.0<\/td>\n",
              "      <td>3.95<\/td>\n",
              "    <\/tr>\n",
              "    <tr>\n",
              "      <th>8<\/th>\n",
              "      <td>.. Maranhão<\/td>\n",
              "      <td>33351.0<\/td>\n",
              "      <td>33766.0<\/td>\n",
              "      <td>2.865809e+07<\/td>\n",
              "      <td>2.244814e+07<\/td>\n",
              "      <td>50267.11<\/td>\n",
              "      <td>-<\/td>\n",
              "      <td>6.134106e+06<\/td>\n",
              "      <td>-<\/td>\n",
              "      <td>-<\/td>\n",
              "      <td>848.73<\/td>\n",
              "      <td>859.29<\/td>\n",
              "      <td>166594.0<\/td>\n",
              "      <td>5.0<\/td>\n",
              "      <td>879.0<\/td>\n",
              "      <td>2.64<\/td>\n",
              "    <\/tr>\n",
              "    <tr>\n",
              "      <th>9<\/th>\n",
              "      <td>.. Piauí<\/td>\n",
              "      <td>16590.0<\/td>\n",
              "      <td>16727.0<\/td>\n",
              "      <td>1.627561e+07<\/td>\n",
              "      <td>1.293886e+07<\/td>\n",
              "      <td>77814.46<\/td>\n",
              "      <td>-<\/td>\n",
              "      <td>3.217744e+06<\/td>\n",
              "      <td>-<\/td>\n",
              "      <td>-<\/td>\n",
              "      <td>973.01<\/td>\n",
              "      <td>981.05<\/td>\n",
              "      <td>81932.0<\/td>\n",
              "      <td>4.9<\/td>\n",
              "      <td>480.0<\/td>\n",
              "      <td>2.89<\/td>\n",
              "    <\/tr>\n",
              "    <tr>\n",
              "      <th>10<\/th>\n",
              "      <td>.. Ceará<\/td>\n",
              "      <td>41228.0<\/td>\n",
              "      <td>41677.0<\/td>\n",
              "      <td>5.136341e+07<\/td>\n",
              "      <td>4.055644e+07<\/td>\n",
              "      <td>37734.25<\/td>\n",
              "      <td>-<\/td>\n",
              "      <td>1.074957e+07<\/td>\n",
              "      <td>-<\/td>\n",
              "      <td>-<\/td>\n",
              "      <td>1232.42<\/td>\n",
              "      <td>1245.84<\/td>\n",
              "      <td>238580.0<\/td>\n",
              "      <td>5.8<\/td>\n",
              "      <td>1662.0<\/td>\n",
              "      <td>4.03<\/td>\n",
              "    <\/tr>\n",
              "    <tr>\n",
              "      <th>11<\/th>\n",
              "      <td>.. Rio Grande do Norte<\/td>\n",
              "      <td>15435.0<\/td>\n",
              "      <td>15627.0<\/td>\n",
              "      <td>2.205867e+07<\/td>\n",
              "      <td>1.718067e+07<\/td>\n",
              "      <td>61849.77<\/td>\n",
              "      <td>15660.06<\/td>\n",
              "      <td>4.770026e+06<\/td>\n",
              "      <td>15660.06<\/td>\n",
              "      <td>9624.58<\/td>\n",
              "      <td>1411.57<\/td>\n",
              "      <td>1429.13<\/td>\n",
              "      <td>92162.0<\/td>\n",
              "      <td>6.0<\/td>\n",
              "      <td>687.0<\/td>\n",
              "      <td>4.45<\/td>\n",
              "    <\/tr>\n",
              "    <tr>\n",
              "      <th>12<\/th>\n",
              "      <td>.. Paraíba<\/td>\n",
              "      <td>16022.0<\/td>\n",
              "      <td>16305.0<\/td>\n",
              "      <td>1.946543e+07<\/td>\n",
              "      <td>1.531535e+07<\/td>\n",
              "      <td>-<\/td>\n",
              "      <td>-<\/td>\n",
              "      <td>4.150075e+06<\/td>\n",
              "      <td>-<\/td>\n",
              "      <td>-<\/td>\n",
              "      <td>1193.83<\/td>\n",
              "      <td>1214.92<\/td>\n",
              "      <td>88357.0<\/td>\n",
              "      <td>5.5<\/td>\n",
              "      <td>799.0<\/td>\n",
              "      <td>4.99<\/td>\n",
              "    <\/tr>\n",
              "    <tr>\n",
              "      <th>13<\/th>\n",
              "      <td>.. Pernambuco<\/td>\n",
              "      <td>49437.0<\/td>\n",
              "      <td>49882.0<\/td>\n",
              "      <td>7.036799e+07<\/td>\n",
              "      <td>5.558425e+07<\/td>\n",
              "      <td>289995.48<\/td>\n",
              "      <td>-<\/td>\n",
              "      <td>1.434477e+07<\/td>\n",
              "      <td>-<\/td>\n",
              "      <td>-<\/td>\n",
              "      <td>1410.69<\/td>\n",
              "      <td>1423.39<\/td>\n",
              "      <td>262688.0<\/td>\n",
              "      <td>5.3<\/td>\n",
              "      <td>2191.0<\/td>\n",
              "      <td>4.43<\/td>\n",
              "    <\/tr>\n",
              "    <tr>\n",
              "      <th>14<\/th>\n",
              "      <td>.. Alagoas<\/td>\n",
              "      <td>15459.0<\/td>\n",
              "      <td>15956.0<\/td>\n",
              "      <td>1.839724e+07<\/td>\n",
              "      <td>1.430781e+07<\/td>\n",
              "      <td>86485.67<\/td>\n",
              "      <td>-<\/td>\n",
              "      <td>3.951723e+06<\/td>\n",
              "      <td>-<\/td>\n",
              "      <td>-<\/td>\n",
              "      <td>1153.00<\/td>\n",
              "      <td>1190.07<\/td>\n",
              "      <td>79992.0<\/td>\n",
              "      <td>5.2<\/td>\n",
              "      <td>576.0<\/td>\n",
              "      <td>3.73<\/td>\n",
              "    <\/tr>\n",
              "    <tr>\n",
              "      <th>15<\/th>\n",
              "      <td>.. Sergipe<\/td>\n",
              "      <td>8032.0<\/td>\n",
              "      <td>8077.0<\/td>\n",
              "      <td>9.931458e+06<\/td>\n",
              "      <td>7.709589e+06<\/td>\n",
              "      <td>-<\/td>\n",
              "      <td>-<\/td>\n",
              "      <td>2.221869e+06<\/td>\n",
              "      <td>-<\/td>\n",
              "      <td>-<\/td>\n",
              "      <td>1229.60<\/td>\n",
              "      <td>1236.49<\/td>\n",
              "      <td>45789.0<\/td>\n",
              "      <td>5.7<\/td>\n",
              "      <td>429.0<\/td>\n",
              "      <td>5.34<\/td>\n",
              "    <\/tr>\n",
              "    <tr>\n",
              "      <th>16<\/th>\n",
              "      <td>.. Bahia<\/td>\n",
              "      <td>72390.0<\/td>\n",
              "      <td>73026.0<\/td>\n",
              "      <td>7.655622e+07<\/td>\n",
              "      <td>5.939778e+07<\/td>\n",
              "      <td>959180.19<\/td>\n",
              "      <td>14237.54<\/td>\n",
              "      <td>1.570563e+07<\/td>\n",
              "      <td>14237.54<\/td>\n",
              "      <td>18174.38<\/td>\n",
              "      <td>1048.34<\/td>\n",
              "      <td>1057.55<\/td>\n",
              "      <td>339012.0<\/td>\n",
              "      <td>4.7<\/td>\n",
              "      <td>2872.0<\/td>\n",
              "      <td>3.97<\/td>\n",
              "    <\/tr>\n",
              "    <tr>\n",
              "      <th>17<\/th>\n",
              "      <td>Região Sudeste<\/td>\n",
              "      <td>408395.0<\/td>\n",
              "      <td>416299.0<\/td>\n",
              "      <td>5.841409e+08<\/td>\n",
              "      <td>4.669866e+08<\/td>\n",
              "      <td>3984933.61<\/td>\n",
              "      <td>163920.17<\/td>\n",
              "      <td>1.104527e+08<\/td>\n",
              "      <td>163920.17<\/td>\n",
              "      <td>210381.6<\/td>\n",
              "      <td>1403.18<\/td>\n",
              "      <td>1430.33<\/td>\n",
              "      <td>2300476.0<\/td>\n",
              "      <td>5.6<\/td>\n",
              "      <td>22652.0<\/td>\n",
              "      <td>5.55<\/td>\n",
              "    <\/tr>\n",
              "    <tr>\n",
              "      <th>18<\/th>\n",
              "      <td>.. Minas Gerais<\/td>\n",
              "      <td>110732.0<\/td>\n",
              "      <td>111474.0<\/td>\n",
              "      <td>1.654405e+08<\/td>\n",
              "      <td>1.329964e+08<\/td>\n",
              "      <td>768340.94<\/td>\n",
              "      <td>163920.17<\/td>\n",
              "      <td>3.070783e+07<\/td>\n",
              "      <td>163920.17<\/td>\n",
              "      <td>210381.6<\/td>\n",
              "      <td>1484.12<\/td>\n",
              "      <td>1494.06<\/td>\n",
              "      <td>564069.0<\/td>\n",
              "      <td>5.1<\/td>\n",
              "      <td>5442.0<\/td>\n",
              "      <td>4.91<\/td>\n",
              "    <\/tr>\n",
              "    <tr>\n",
              "      <th>19<\/th>\n",
              "      <td>.. Espírito Santo<\/td>\n",
              "      <td>21645.0<\/td>\n",
              "      <td>21719.0<\/td>\n",
              "      <td>2.910695e+07<\/td>\n",
              "      <td>2.302760e+07<\/td>\n",
              "      <td>140302.66<\/td>\n",
              "      <td>-<\/td>\n",
              "      <td>5.788359e+06<\/td>\n",
              "      <td>-<\/td>\n",
              "      <td>-<\/td>\n",
              "      <td>1340.16<\/td>\n",
              "      <td>1344.74<\/td>\n",
              "      <td>106978.0<\/td>\n",
              "      <td>4.9<\/td>\n",
              "      <td>841.0<\/td>\n",
              "      <td>3.89<\/td>\n",
              "    <\/tr>\n",
              "    <tr>\n",
              "      <th>20<\/th>\n",
              "      <td>.. Rio de Janeiro<\/td>\n",
              "      <td>61719.0<\/td>\n",
              "      <td>63017.0<\/td>\n",
              "      <td>8.527935e+07<\/td>\n",
              "      <td>6.717371e+07<\/td>\n",
              "      <td>1278134.15<\/td>\n",
              "      <td>-<\/td>\n",
              "      <td>1.622089e+07<\/td>\n",
              "      <td>-<\/td>\n",
              "      <td>-<\/td>\n",
              "      <td>1353.28<\/td>\n",
              "      <td>1381.74<\/td>\n",
              "      <td>436572.0<\/td>\n",
              "      <td>7.1<\/td>\n",
              "      <td>4381.0<\/td>\n",
              "      <td>7.10<\/td>\n",
              "    <\/tr>\n",
              "    <tr>\n",
              "      <th>21<\/th>\n",
              "      <td>.. São Paulo<\/td>\n",
              "      <td>214299.0<\/td>\n",
              "      <td>220089.0<\/td>\n",
              "      <td>3.043141e+08<\/td>\n",
              "      <td>2.437889e+08<\/td>\n",
              "      <td>1798155.86<\/td>\n",
              "      <td>-<\/td>\n",
              "      <td>5.773565e+07<\/td>\n",
              "      <td>-<\/td>\n",
              "      <td>-<\/td>\n",
              "      <td>1382.69<\/td>\n",
              "      <td>1420.04<\/td>\n",
              "      <td>1192857.0<\/td>\n",
              "      <td>5.6<\/td>\n",
              "      <td>11988.0<\/td>\n",
              "      <td>5.59<\/td>\n",
              "    <\/tr>\n",
              "    <tr>\n",
              "      <th>22<\/th>\n",
              "      <td>Região Sul<\/td>\n",
              "      <td>187638.0<\/td>\n",
              "      <td>189646.0<\/td>\n",
              "      <td>2.944153e+08<\/td>\n",
              "      <td>2.362523e+08<\/td>\n",
              "      <td>1532690.93<\/td>\n",
              "      <td>39375<\/td>\n",
              "      <td>5.571837e+07<\/td>\n",
              "      <td>39375<\/td>\n",
              "      <td>-<\/td>\n",
              "      <td>1552.45<\/td>\n",
              "      <td>1569.06<\/td>\n",
              "      <td>941146.0<\/td>\n",
              "      <td>5.0<\/td>\n",
              "      <td>8583.0<\/td>\n",
              "      <td>4.57<\/td>\n",
              "    <\/tr>\n",
              "    <tr>\n",
              "      <th>23<\/th>\n",
              "      <td>.. Paraná<\/td>\n",
              "      <td>74845.0<\/td>\n",
              "      <td>76230.0<\/td>\n",
              "      <td>1.258644e+08<\/td>\n",
              "      <td>1.002322e+08<\/td>\n",
              "      <td>499388.48<\/td>\n",
              "      <td>-<\/td>\n",
              "      <td>2.482290e+07<\/td>\n",
              "      <td>-<\/td>\n",
              "      <td>-<\/td>\n",
              "      <td>1651.11<\/td>\n",
              "      <td>1681.67<\/td>\n",
              "      <td>320599.0<\/td>\n",
              "      <td>4.3<\/td>\n",
              "      <td>2950.0<\/td>\n",
              "      <td>3.94<\/td>\n",
              "    <\/tr>\n",
              "    <tr>\n",
              "      <th>24<\/th>\n",
              "      <td>.. Santa Catarina<\/td>\n",
              "      <td>44943.0<\/td>\n",
              "      <td>45159.0<\/td>\n",
              "      <td>6.645805e+07<\/td>\n",
              "      <td>5.284261e+07<\/td>\n",
              "      <td>366413.13<\/td>\n",
              "      <td>39375<\/td>\n",
              "      <td>1.295605e+07<\/td>\n",
              "      <td>39375<\/td>\n",
              "      <td>-<\/td>\n",
              "      <td>1471.65<\/td>\n",
              "      <td>1478.72<\/td>\n",
              "      <td>205917.0<\/td>\n",
              "      <td>4.6<\/td>\n",
              "      <td>1887.0<\/td>\n",
              "      <td>4.20<\/td>\n",
              "    <\/tr>\n",
              "    <tr>\n",
              "      <th>25<\/th>\n",
              "      <td>.. Rio Grande do Sul<\/td>\n",
              "      <td>67850.0<\/td>\n",
              "      <td>68257.0<\/td>\n",
              "      <td>1.020928e+08<\/td>\n",
              "      <td>8.317754e+07<\/td>\n",
              "      <td>666889.32<\/td>\n",
              "      <td>-<\/td>\n",
              "      <td>1.793942e+07<\/td>\n",
              "      <td>-<\/td>\n",
              "      <td>-<\/td>\n",
              "      <td>1495.71<\/td>\n",
              "      <td>1504.68<\/td>\n",
              "      <td>414630.0<\/td>\n",
              "      <td>6.1<\/td>\n",
              "      <td>3746.0<\/td>\n",
              "      <td>5.52<\/td>\n",
              "    <\/tr>\n",
              "    <tr>\n",
              "      <th>26<\/th>\n",
              "      <td>Região Centro-Oeste<\/td>\n",
              "      <td>78785.0<\/td>\n",
              "      <td>79787.0<\/td>\n",
              "      <td>9.487529e+07<\/td>\n",
              "      <td>7.548076e+07<\/td>\n",
              "      <td>559600.53<\/td>\n",
              "      <td>67707.72<\/td>\n",
              "      <td>1.849670e+07<\/td>\n",
              "      <td>67707.72<\/td>\n",
              "      <td>7192.1<\/td>\n",
              "      <td>1189.11<\/td>\n",
              "      <td>1204.23<\/td>\n",
              "      <td>397947.0<\/td>\n",
              "      <td>5.1<\/td>\n",
              "      <td>2965.0<\/td>\n",
              "      <td>3.76<\/td>\n",
              "    <\/tr>\n",
              "    <tr>\n",
              "      <th>27<\/th>\n",
              "      <td>.. Mato Grosso do Sul<\/td>\n",
              "      <td>15150.0<\/td>\n",
              "      <td>15247.0<\/td>\n",
              "      <td>1.952363e+07<\/td>\n",
              "      <td>1.529613e+07<\/td>\n",
              "      <td>136920.38<\/td>\n",
              "      <td>-<\/td>\n",
              "      <td>4.014367e+06<\/td>\n",
              "      <td>-<\/td>\n",
              "      <td>-<\/td>\n",
              "      <td>1280.49<\/td>\n",
              "      <td>1288.69<\/td>\n",
              "      <td>70907.0<\/td>\n",
              "      <td>4.7<\/td>\n",
              "      <td>613.0<\/td>\n",
              "      <td>4.05<\/td>\n",
              "    <\/tr>\n",
              "    <tr>\n",
              "      <th>28<\/th>\n",
              "      <td>.. Mato Grosso<\/td>\n",
              "      <td>15824.0<\/td>\n",
              "      <td>15964.0<\/td>\n",
              "      <td>1.608209e+07<\/td>\n",
              "      <td>1.288967e+07<\/td>\n",
              "      <td>-<\/td>\n",
              "      <td>-<\/td>\n",
              "      <td>3.192422e+06<\/td>\n",
              "      <td>-<\/td>\n",
              "      <td>-<\/td>\n",
              "      <td>1007.40<\/td>\n",
              "      <td>1016.31<\/td>\n",
              "      <td>74218.0<\/td>\n",
              "      <td>4.7<\/td>\n",
              "      <td>683.0<\/td>\n",
              "      <td>4.32<\/td>\n",
              "    <\/tr>\n",
              "    <tr>\n",
              "      <th>29<\/th>\n",
              "      <td>.. Goiás<\/td>\n",
              "      <td>27835.0<\/td>\n",
              "      <td>28465.0<\/td>\n",
              "      <td>3.705342e+07<\/td>\n",
              "      <td>2.944633e+07<\/td>\n",
              "      <td>422680.15<\/td>\n",
              "      <td>67707.72<\/td>\n",
              "      <td>6.922391e+06<\/td>\n",
              "      <td>67707.72<\/td>\n",
              "      <td>7192.1<\/td>\n",
              "      <td>1301.72<\/td>\n",
              "      <td>1331.18<\/td>\n",
              "      <td>135793.0<\/td>\n",
              "      <td>4.9<\/td>\n",
              "      <td>1077.0<\/td>\n",
              "      <td>3.87<\/td>\n",
              "    <\/tr>\n",
              "    <tr>\n",
              "      <th>30<\/th>\n",
              "      <td>.. Distrito Federal<\/td>\n",
              "      <td>19976.0<\/td>\n",
              "      <td>20111.0<\/td>\n",
              "      <td>2.221615e+07<\/td>\n",
              "      <td>1.784863e+07<\/td>\n",
              "      <td>-<\/td>\n",
              "      <td>-<\/td>\n",
              "      <td>4.367522e+06<\/td>\n",
              "      <td>-<\/td>\n",
              "      <td>-<\/td>\n",
              "      <td>1104.68<\/td>\n",
              "      <td>1112.14<\/td>\n",
              "      <td>117029.0<\/td>\n",
              "      <td>5.9<\/td>\n",
              "      <td>592.0<\/td>\n",
              "      <td>2.96<\/td>\n",
              "    <\/tr>\n",
              "    <tr>\n",
              "      <th>31<\/th>\n",
              "      <td>Total<\/td>\n",
              "      <td>1018125.0<\/td>\n",
              "      <td>1032138.0<\/td>\n",
              "      <td>1.352327e+09<\/td>\n",
              "      <td>1.074751e+09<\/td>\n",
              "      <td>7922677.28<\/td>\n",
              "      <td>300900.49<\/td>\n",
              "      <td>2.647334e+08<\/td>\n",
              "      <td>300900.49<\/td>\n",
              "      <td>245372.66<\/td>\n",
              "      <td>1310.22<\/td>\n",
              "      <td>1328.25<\/td>\n",
              "      <td>5392877.0<\/td>\n",
              "      <td>5.3<\/td>\n",
              "      <td>46924.0<\/td>\n",
              "      <td>4.61<\/td>\n",
              "    <\/tr>\n",
              "    <tr>\n",
              "      <th>32<\/th>\n",
              "      <td>NaN<\/td>\n",
              "      <td>NaN<\/td>\n",
              "      <td>NaN<\/td>\n",
              "      <td>NaN<\/td>\n",
              "      <td>NaN<\/td>\n",
              "      <td>NaN<\/td>\n",
              "      <td>NaN<\/td>\n",
              "      <td>NaN<\/td>\n",
              "      <td>NaN<\/td>\n",
              "      <td>NaN<\/td>\n",
              "      <td>NaN<\/td>\n",
              "      <td>NaN<\/td>\n",
              "      <td>NaN<\/td>\n",
              "      <td>NaN<\/td>\n",
              "      <td>NaN<\/td>\n",
              "      <td>NaN<\/td>\n",
              "    <\/tr>\n",
              "    <tr>\n",
              "      <th>33<\/th>\n",
              "      <td>NaN<\/td>\n",
              "      <td>NaN<\/td>\n",
              "      <td>NaN<\/td>\n",
              "      <td>NaN<\/td>\n",
              "      <td>NaN<\/td>\n",
              "      <td>NaN<\/td>\n",
              "      <td>NaN<\/td>\n",
              "      <td>NaN<\/td>\n",
              "      <td>NaN<\/td>\n",
              "      <td>NaN<\/td>\n",
              "      <td>NaN<\/td>\n",
              "      <td>NaN<\/td>\n",
              "      <td>NaN<\/td>\n",
              "      <td>NaN<\/td>\n",
              "      <td>NaN<\/td>\n",
              "      <td>NaN<\/td>\n",
              "    <\/tr>\n",
              "    <tr>\n",
              "      <th>34<\/th>\n",
              "      <td>NaN<\/td>\n",
              "      <td>NaN<\/td>\n",
              "      <td>NaN<\/td>\n",
              "      <td>NaN<\/td>\n",
              "      <td>NaN<\/td>\n",
              "      <td>NaN<\/td>\n",
              "      <td>NaN<\/td>\n",
              "      <td>NaN<\/td>\n",
              "      <td>NaN<\/td>\n",
              "      <td>NaN<\/td>\n",
              "      <td>NaN<\/td>\n",
              "      <td>NaN<\/td>\n",
              "      <td>NaN<\/td>\n",
              "      <td>NaN<\/td>\n",
              "      <td>NaN<\/td>\n",
              "      <td>NaN<\/td>\n",
              "    <\/tr>\n",
              "    <tr>\n",
              "      <th>35<\/th>\n",
              "      <td>NaN<\/td>\n",
              "      <td>NaN<\/td>\n",
              "      <td>NaN<\/td>\n",
              "      <td>NaN<\/td>\n",
              "      <td>NaN<\/td>\n",
              "      <td>NaN<\/td>\n",
              "      <td>NaN<\/td>\n",
              "      <td>NaN<\/td>\n",
              "      <td>NaN<\/td>\n",
              "      <td>NaN<\/td>\n",
              "      <td>NaN<\/td>\n",
              "      <td>NaN<\/td>\n",
              "      <td>NaN<\/td>\n",
              "      <td>NaN<\/td>\n",
              "      <td>NaN<\/td>\n",
              "      <td>NaN<\/td>\n",
              "    <\/tr>\n",
              "    <tr>\n",
              "      <th>36<\/th>\n",
              "      <td>NaN<\/td>\n",
              "      <td>NaN<\/td>\n",
              "      <td>NaN<\/td>\n",
              "      <td>NaN<\/td>\n",
              "      <td>NaN<\/td>\n",
              "      <td>NaN<\/td>\n",
              "      <td>NaN<\/td>\n",
              "      <td>NaN<\/td>\n",
              "      <td>NaN<\/td>\n",
              "      <td>NaN<\/td>\n",
              "      <td>NaN<\/td>\n",
              "      <td>NaN<\/td>\n",
              "      <td>NaN<\/td>\n",
              "      <td>NaN<\/td>\n",
              "      <td>NaN<\/td>\n",
              "      <td>NaN<\/td>\n",
              "    <\/tr>\n",
              "    <tr>\n",
              "      <th>37<\/th>\n",
              "      <td><\/td>\n",
              "      <td>NaN<\/td>\n",
              "      <td>NaN<\/td>\n",
              "      <td>NaN<\/td>\n",
              "      <td>NaN<\/td>\n",
              "      <td>NaN<\/td>\n",
              "      <td>NaN<\/td>\n",
              "      <td>NaN<\/td>\n",
              "      <td>NaN<\/td>\n",
              "      <td>NaN<\/td>\n",
              "      <td>NaN<\/td>\n",
              "      <td>NaN<\/td>\n",
              "      <td>NaN<\/td>\n",
              "      <td>NaN<\/td>\n",
              "      <td>NaN<\/td>\n",
              "      <td>NaN<\/td>\n",
              "    <\/tr>\n",
              "  <\/tbody>\n",
              "<\/table>\n",
              "<\/div>"
            ]
          },
          "metadata":{
            
          },
          "output_type":"display_data"
        }
      ],
      "metadata":{
        "datalore":{
          "sheet_delimiter":false
        }
      }
    },
    {
      "cell_type":"code",
      "source":[
        "print(df.info())"
      ],
      "execution_count":6,
      "outputs":[
        {
          "name":"stdout",
          "text":[
            "<class 'pandas.core.frame.DataFrame'>\n",
            "RangeIndex: 38 entries, 0 to 37\n",
            "Data columns (total 16 columns):\n",
            " #   Column                         Non-Null Count  Dtype  \n",
            "---  ------                         --------------  -----  \n",
            " 0   Região\/Unidade da Federação    33 non-null     object \n",
            " 1   Internações                    32 non-null     float64\n",
            " 2   AIH_aprovadas                  32 non-null     float64\n",
            " 3   Valor_total                    32 non-null     float64\n",
            " 4   Valor_serviços_hospitalares    32 non-null     float64\n",
            " 5   Val_serv_hosp_-_compl_federal  32 non-null     object \n",
            " 6   Val_serv_hosp_-_compl_gestor   32 non-null     object \n",
            " 7   Valor_serviços_profissionais   32 non-null     float64\n",
            " 8   Val_serv_prof_-_compl_federal  32 non-null     object \n",
            " 9   Val_serv_prof_-_compl_gestor   32 non-null     object \n",
            " 10  Valor_médio_AIH                32 non-null     float64\n",
            " 11  Valor_médio_intern             32 non-null     float64\n",
            " 12  Dias_permanência               32 non-null     float64\n",
            " 13  Média_permanência              32 non-null     float64\n",
            " 14  Óbitos                         32 non-null     float64\n",
            " 15  Taxa_mortalidade               32 non-null     float64\n",
            "dtypes: float64(11), object(5)\n",
            "memory usage: 4.9+ KB\n",
            "None\n"
          ],
          "output_type":"stream"
        }
      ],
      "metadata":{
        "datalore":{
          "sheet_delimiter":false
        }
      }
    },
    {
      "cell_type":"markdown",
      "source":[
        "Podemos ver que temos algumas linhas como valores ausentes que na hora da criaçao no excel foram usadas pra desing ou uma visualizaçao melhor dos dados, mas primeiramente vamos dropar esses valores."
      ],
      "attachments":{
        
      },
      "metadata":{
        "datalore":{
          "sheet_delimiter":false
        }
      }
    },
    {
      "cell_type":"code",
      "source":[
        "df = df.dropna()"
      ],
      "execution_count":7,
      "outputs":[
        
      ],
      "metadata":{
        "datalore":{
          "sheet_delimiter":false
        }
      }
    },
    {
      "cell_type":"code",
      "source":[
        "df.shape"
      ],
      "execution_count":8,
      "outputs":[
        {
          "data":{
            "text\/plain":[
              "(32, 16)"
            ]
          },
          "metadata":{
            
          },
          "output_type":"display_data"
        }
      ],
      "metadata":{
        "datalore":{
          "sheet_delimiter":false
        }
      }
    },
    {
      "cell_type":"markdown",
      "source":[
        "Agora que dropamos os valores vemos que temos algumas observaçoes desnecessarias, como por exemplo o Total, e tambem ha linhas onde consta o os estados, porem vamos atribuir as regioes mais pra frente, em forma de coluna para podermos ter uma melhor visualizaçao"
      ],
      "attachments":{
        
      },
      "metadata":{
        "datalore":{
          "sheet_delimiter":false
        }
      }
    },
    {
      "cell_type":"code",
      "source":[
        "lista_delete = [0,7,17,22,26,31]\n",
        "df = df.drop(lista_delete)"
      ],
      "execution_count":9,
      "outputs":[
        
      ],
      "metadata":{
        "datalore":{
          "sheet_delimiter":false
        }
      }
    },
    {
      "cell_type":"code",
      "source":[
        "df.shape"
      ],
      "execution_count":10,
      "outputs":[
        {
          "data":{
            "text\/plain":[
              "(26, 16)"
            ]
          },
          "metadata":{
            
          },
          "output_type":"display_data"
        }
      ],
      "metadata":{
        "datalore":{
          "sheet_delimiter":false
        }
      }
    },
    {
      "cell_type":"markdown",
      "source":[
        "Agora vemos que temos os 26 estados brasileiros e o distrito federal\n",
        "Porem vemos que os nomes dos estados iniciam com o ponto, vamos remover ele"
      ],
      "attachments":{
        
      },
      "metadata":{
        "datalore":{
          "sheet_delimiter":false
        }
      }
    },
    {
      "cell_type":"code",
      "source":[
        "df['Região\/Unidade da Federação'] = df['Região\/Unidade da Federação'].str.replace(\".\" ,\"\")\n",
        "df"
      ],
      "execution_count":11,
      "outputs":[
        {
          "name":"stderr",
          "text":[
            "<ipython-input-11-5553f068af97>:1: FutureWarning: The default value of regex will change from True to False in a future version. In addition, single character regular expressions will *not* be treated as literal strings when regex=True.\n",
            "  df['Região\/Unidade da Federação'] = df['Região\/Unidade da Federação'].str.replace(\".\" ,\"\")\n"
          ],
          "output_type":"stream"
        },
        {
          "data":{
            "text\/html":[
              "<div>\n",
              "<style scoped>\n",
              "    .dataframe tbody tr th:only-of-type {\n",
              "        vertical-align: middle;\n",
              "    }\n",
              "\n",
              "    .dataframe tbody tr th {\n",
              "        vertical-align: top;\n",
              "    }\n",
              "\n",
              "    .dataframe thead th {\n",
              "        text-align: right;\n",
              "    }\n",
              "<\/style>\n",
              "<table border=\"1\" class=\"dataframe\">\n",
              "  <thead>\n",
              "    <tr style=\"text-align: right;\">\n",
              "      <th><\/th>\n",
              "      <th>Região\/Unidade da Federação<\/th>\n",
              "      <th>Internações<\/th>\n",
              "      <th>AIH_aprovadas<\/th>\n",
              "      <th>Valor_total<\/th>\n",
              "      <th>Valor_serviços_hospitalares<\/th>\n",
              "      <th>Val_serv_hosp_-_compl_federal<\/th>\n",
              "      <th>Val_serv_hosp_-_compl_gestor<\/th>\n",
              "      <th>Valor_serviços_profissionais<\/th>\n",
              "      <th>Val_serv_prof_-_compl_federal<\/th>\n",
              "      <th>Val_serv_prof_-_compl_gestor<\/th>\n",
              "      <th>Valor_médio_AIH<\/th>\n",
              "      <th>Valor_médio_intern<\/th>\n",
              "      <th>Dias_permanência<\/th>\n",
              "      <th>Média_permanência<\/th>\n",
              "      <th>Óbitos<\/th>\n",
              "      <th>Taxa_mortalidade<\/th>\n",
              "    <\/tr>\n",
              "  <\/thead>\n",
              "  <tbody>\n",
              "    <tr>\n",
              "      <th>1<\/th>\n",
              "      <td>Rondônia<\/td>\n",
              "      <td>9603.0<\/td>\n",
              "      <td>9603.0<\/td>\n",
              "      <td>9.404751e+06<\/td>\n",
              "      <td>7.666946e+06<\/td>\n",
              "      <td>-<\/td>\n",
              "      <td>-<\/td>\n",
              "      <td>1737805.51<\/td>\n",
              "      <td>-<\/td>\n",
              "      <td>-<\/td>\n",
              "      <td>979.36<\/td>\n",
              "      <td>979.36<\/td>\n",
              "      <td>53043.0<\/td>\n",
              "      <td>5.5<\/td>\n",
              "      <td>315.0<\/td>\n",
              "      <td>3.28<\/td>\n",
              "    <\/tr>\n",
              "    <tr>\n",
              "      <th>2<\/th>\n",
              "      <td>Amazonas<\/td>\n",
              "      <td>16248.0<\/td>\n",
              "      <td>16248.0<\/td>\n",
              "      <td>1.562431e+07<\/td>\n",
              "      <td>1.216663e+07<\/td>\n",
              "      <td>1221.31<\/td>\n",
              "      <td>-<\/td>\n",
              "      <td>3455637.92<\/td>\n",
              "      <td>-<\/td>\n",
              "      <td>-<\/td>\n",
              "      <td>961.61<\/td>\n",
              "      <td>961.61<\/td>\n",
              "      <td>85512.0<\/td>\n",
              "      <td>5.3<\/td>\n",
              "      <td>536.0<\/td>\n",
              "      <td>3.30<\/td>\n",
              "    <\/tr>\n",
              "    <tr>\n",
              "      <th>3<\/th>\n",
              "      <td>Roraima<\/td>\n",
              "      <td>4324.0<\/td>\n",
              "      <td>4324.0<\/td>\n",
              "      <td>3.137537e+06<\/td>\n",
              "      <td>2.356232e+06<\/td>\n",
              "      <td>-<\/td>\n",
              "      <td>-<\/td>\n",
              "      <td>781305.72<\/td>\n",
              "      <td>-<\/td>\n",
              "      <td>-<\/td>\n",
              "      <td>725.61<\/td>\n",
              "      <td>725.61<\/td>\n",
              "      <td>25560.0<\/td>\n",
              "      <td>5.9<\/td>\n",
              "      <td>171.0<\/td>\n",
              "      <td>3.95<\/td>\n",
              "    <\/tr>\n",
              "    <tr>\n",
              "      <th>4<\/th>\n",
              "      <td>Pará<\/td>\n",
              "      <td>34774.0<\/td>\n",
              "      <td>34774.0<\/td>\n",
              "      <td>2.817863e+07<\/td>\n",
              "      <td>2.124135e+07<\/td>\n",
              "      <td>248197.25<\/td>\n",
              "      <td>-<\/td>\n",
              "      <td>6581738.70<\/td>\n",
              "      <td>-<\/td>\n",
              "      <td>-<\/td>\n",
              "      <td>810.34<\/td>\n",
              "      <td>810.34<\/td>\n",
              "      <td>138135.0<\/td>\n",
              "      <td>4.0<\/td>\n",
              "      <td>832.0<\/td>\n",
              "      <td>2.39<\/td>\n",
              "    <\/tr>\n",
              "    <tr>\n",
              "      <th>5<\/th>\n",
              "      <td>Amapá<\/td>\n",
              "      <td>3407.0<\/td>\n",
              "      <td>3407.0<\/td>\n",
              "      <td>2.380728e+06<\/td>\n",
              "      <td>1.776869e+06<\/td>\n",
              "      <td>-<\/td>\n",
              "      <td>-<\/td>\n",
              "      <td>603858.34<\/td>\n",
              "      <td>-<\/td>\n",
              "      <td>-<\/td>\n",
              "      <td>698.78<\/td>\n",
              "      <td>698.78<\/td>\n",
              "      <td>18703.0<\/td>\n",
              "      <td>5.5<\/td>\n",
              "      <td>85.0<\/td>\n",
              "      <td>2.49<\/td>\n",
              "    <\/tr>\n",
              "    <tr>\n",
              "      <th>6<\/th>\n",
              "      <td>Tocantins<\/td>\n",
              "      <td>7007.0<\/td>\n",
              "      <td>7007.0<\/td>\n",
              "      <td>7.095859e+06<\/td>\n",
              "      <td>5.384238e+06<\/td>\n",
              "      <td>32706.72<\/td>\n",
              "      <td>-<\/td>\n",
              "      <td>1659776.34<\/td>\n",
              "      <td>-<\/td>\n",
              "      <td>-<\/td>\n",
              "      <td>1012.68<\/td>\n",
              "      <td>1012.68<\/td>\n",
              "      <td>37249.0<\/td>\n",
              "      <td>5.3<\/td>\n",
              "      <td>210.0<\/td>\n",
              "      <td>3.00<\/td>\n",
              "    <\/tr>\n",
              "    <tr>\n",
              "      <th>8<\/th>\n",
              "      <td>Maranhão<\/td>\n",
              "      <td>33351.0<\/td>\n",
              "      <td>33766.0<\/td>\n",
              "      <td>2.865809e+07<\/td>\n",
              "      <td>2.244814e+07<\/td>\n",
              "      <td>50267.11<\/td>\n",
              "      <td>-<\/td>\n",
              "      <td>6134105.82<\/td>\n",
              "      <td>-<\/td>\n",
              "      <td>-<\/td>\n",
              "      <td>848.73<\/td>\n",
              "      <td>859.29<\/td>\n",
              "      <td>166594.0<\/td>\n",
              "      <td>5.0<\/td>\n",
              "      <td>879.0<\/td>\n",
              "      <td>2.64<\/td>\n",
              "    <\/tr>\n",
              "    <tr>\n",
              "      <th>9<\/th>\n",
              "      <td>Piauí<\/td>\n",
              "      <td>16590.0<\/td>\n",
              "      <td>16727.0<\/td>\n",
              "      <td>1.627561e+07<\/td>\n",
              "      <td>1.293886e+07<\/td>\n",
              "      <td>77814.46<\/td>\n",
              "      <td>-<\/td>\n",
              "      <td>3217744.00<\/td>\n",
              "      <td>-<\/td>\n",
              "      <td>-<\/td>\n",
              "      <td>973.01<\/td>\n",
              "      <td>981.05<\/td>\n",
              "      <td>81932.0<\/td>\n",
              "      <td>4.9<\/td>\n",
              "      <td>480.0<\/td>\n",
              "      <td>2.89<\/td>\n",
              "    <\/tr>\n",
              "    <tr>\n",
              "      <th>10<\/th>\n",
              "      <td>Ceará<\/td>\n",
              "      <td>41228.0<\/td>\n",
              "      <td>41677.0<\/td>\n",
              "      <td>5.136341e+07<\/td>\n",
              "      <td>4.055644e+07<\/td>\n",
              "      <td>37734.25<\/td>\n",
              "      <td>-<\/td>\n",
              "      <td>10749572.15<\/td>\n",
              "      <td>-<\/td>\n",
              "      <td>-<\/td>\n",
              "      <td>1232.42<\/td>\n",
              "      <td>1245.84<\/td>\n",
              "      <td>238580.0<\/td>\n",
              "      <td>5.8<\/td>\n",
              "      <td>1662.0<\/td>\n",
              "      <td>4.03<\/td>\n",
              "    <\/tr>\n",
              "    <tr>\n",
              "      <th>11<\/th>\n",
              "      <td>Rio Grande do Norte<\/td>\n",
              "      <td>15435.0<\/td>\n",
              "      <td>15627.0<\/td>\n",
              "      <td>2.205867e+07<\/td>\n",
              "      <td>1.718067e+07<\/td>\n",
              "      <td>61849.77<\/td>\n",
              "      <td>15660.06<\/td>\n",
              "      <td>4770026.14<\/td>\n",
              "      <td>15660.06<\/td>\n",
              "      <td>9624.58<\/td>\n",
              "      <td>1411.57<\/td>\n",
              "      <td>1429.13<\/td>\n",
              "      <td>92162.0<\/td>\n",
              "      <td>6.0<\/td>\n",
              "      <td>687.0<\/td>\n",
              "      <td>4.45<\/td>\n",
              "    <\/tr>\n",
              "    <tr>\n",
              "      <th>12<\/th>\n",
              "      <td>Paraíba<\/td>\n",
              "      <td>16022.0<\/td>\n",
              "      <td>16305.0<\/td>\n",
              "      <td>1.946543e+07<\/td>\n",
              "      <td>1.531535e+07<\/td>\n",
              "      <td>-<\/td>\n",
              "      <td>-<\/td>\n",
              "      <td>4150074.84<\/td>\n",
              "      <td>-<\/td>\n",
              "      <td>-<\/td>\n",
              "      <td>1193.83<\/td>\n",
              "      <td>1214.92<\/td>\n",
              "      <td>88357.0<\/td>\n",
              "      <td>5.5<\/td>\n",
              "      <td>799.0<\/td>\n",
              "      <td>4.99<\/td>\n",
              "    <\/tr>\n",
              "    <tr>\n",
              "      <th>13<\/th>\n",
              "      <td>Pernambuco<\/td>\n",
              "      <td>49437.0<\/td>\n",
              "      <td>49882.0<\/td>\n",
              "      <td>7.036799e+07<\/td>\n",
              "      <td>5.558425e+07<\/td>\n",
              "      <td>289995.48<\/td>\n",
              "      <td>-<\/td>\n",
              "      <td>14344768.59<\/td>\n",
              "      <td>-<\/td>\n",
              "      <td>-<\/td>\n",
              "      <td>1410.69<\/td>\n",
              "      <td>1423.39<\/td>\n",
              "      <td>262688.0<\/td>\n",
              "      <td>5.3<\/td>\n",
              "      <td>2191.0<\/td>\n",
              "      <td>4.43<\/td>\n",
              "    <\/tr>\n",
              "    <tr>\n",
              "      <th>14<\/th>\n",
              "      <td>Alagoas<\/td>\n",
              "      <td>15459.0<\/td>\n",
              "      <td>15956.0<\/td>\n",
              "      <td>1.839724e+07<\/td>\n",
              "      <td>1.430781e+07<\/td>\n",
              "      <td>86485.67<\/td>\n",
              "      <td>-<\/td>\n",
              "      <td>3951723.45<\/td>\n",
              "      <td>-<\/td>\n",
              "      <td>-<\/td>\n",
              "      <td>1153.00<\/td>\n",
              "      <td>1190.07<\/td>\n",
              "      <td>79992.0<\/td>\n",
              "      <td>5.2<\/td>\n",
              "      <td>576.0<\/td>\n",
              "      <td>3.73<\/td>\n",
              "    <\/tr>\n",
              "    <tr>\n",
              "      <th>15<\/th>\n",
              "      <td>Sergipe<\/td>\n",
              "      <td>8032.0<\/td>\n",
              "      <td>8077.0<\/td>\n",
              "      <td>9.931458e+06<\/td>\n",
              "      <td>7.709589e+06<\/td>\n",
              "      <td>-<\/td>\n",
              "      <td>-<\/td>\n",
              "      <td>2221868.94<\/td>\n",
              "      <td>-<\/td>\n",
              "      <td>-<\/td>\n",
              "      <td>1229.60<\/td>\n",
              "      <td>1236.49<\/td>\n",
              "      <td>45789.0<\/td>\n",
              "      <td>5.7<\/td>\n",
              "      <td>429.0<\/td>\n",
              "      <td>5.34<\/td>\n",
              "    <\/tr>\n",
              "    <tr>\n",
              "      <th>16<\/th>\n",
              "      <td>Bahia<\/td>\n",
              "      <td>72390.0<\/td>\n",
              "      <td>73026.0<\/td>\n",
              "      <td>7.655622e+07<\/td>\n",
              "      <td>5.939778e+07<\/td>\n",
              "      <td>959180.19<\/td>\n",
              "      <td>14237.54<\/td>\n",
              "      <td>15705626.64<\/td>\n",
              "      <td>14237.54<\/td>\n",
              "      <td>18174.38<\/td>\n",
              "      <td>1048.34<\/td>\n",
              "      <td>1057.55<\/td>\n",
              "      <td>339012.0<\/td>\n",
              "      <td>4.7<\/td>\n",
              "      <td>2872.0<\/td>\n",
              "      <td>3.97<\/td>\n",
              "    <\/tr>\n",
              "    <tr>\n",
              "      <th>18<\/th>\n",
              "      <td>Minas Gerais<\/td>\n",
              "      <td>110732.0<\/td>\n",
              "      <td>111474.0<\/td>\n",
              "      <td>1.654405e+08<\/td>\n",
              "      <td>1.329964e+08<\/td>\n",
              "      <td>768340.94<\/td>\n",
              "      <td>163920.17<\/td>\n",
              "      <td>30707830.94<\/td>\n",
              "      <td>163920.17<\/td>\n",
              "      <td>210381.6<\/td>\n",
              "      <td>1484.12<\/td>\n",
              "      <td>1494.06<\/td>\n",
              "      <td>564069.0<\/td>\n",
              "      <td>5.1<\/td>\n",
              "      <td>5442.0<\/td>\n",
              "      <td>4.91<\/td>\n",
              "    <\/tr>\n",
              "    <tr>\n",
              "      <th>19<\/th>\n",
              "      <td>Espírito Santo<\/td>\n",
              "      <td>21645.0<\/td>\n",
              "      <td>21719.0<\/td>\n",
              "      <td>2.910695e+07<\/td>\n",
              "      <td>2.302760e+07<\/td>\n",
              "      <td>140302.66<\/td>\n",
              "      <td>-<\/td>\n",
              "      <td>5788359.26<\/td>\n",
              "      <td>-<\/td>\n",
              "      <td>-<\/td>\n",
              "      <td>1340.16<\/td>\n",
              "      <td>1344.74<\/td>\n",
              "      <td>106978.0<\/td>\n",
              "      <td>4.9<\/td>\n",
              "      <td>841.0<\/td>\n",
              "      <td>3.89<\/td>\n",
              "    <\/tr>\n",
              "    <tr>\n",
              "      <th>20<\/th>\n",
              "      <td>Rio de Janeiro<\/td>\n",
              "      <td>61719.0<\/td>\n",
              "      <td>63017.0<\/td>\n",
              "      <td>8.527935e+07<\/td>\n",
              "      <td>6.717371e+07<\/td>\n",
              "      <td>1278134.15<\/td>\n",
              "      <td>-<\/td>\n",
              "      <td>16220888.31<\/td>\n",
              "      <td>-<\/td>\n",
              "      <td>-<\/td>\n",
              "      <td>1353.28<\/td>\n",
              "      <td>1381.74<\/td>\n",
              "      <td>436572.0<\/td>\n",
              "      <td>7.1<\/td>\n",
              "      <td>4381.0<\/td>\n",
              "      <td>7.10<\/td>\n",
              "    <\/tr>\n",
              "    <tr>\n",
              "      <th>21<\/th>\n",
              "      <td>São Paulo<\/td>\n",
              "      <td>214299.0<\/td>\n",
              "      <td>220089.0<\/td>\n",
              "      <td>3.043141e+08<\/td>\n",
              "      <td>2.437889e+08<\/td>\n",
              "      <td>1798155.86<\/td>\n",
              "      <td>-<\/td>\n",
              "      <td>57735646.86<\/td>\n",
              "      <td>-<\/td>\n",
              "      <td>-<\/td>\n",
              "      <td>1382.69<\/td>\n",
              "      <td>1420.04<\/td>\n",
              "      <td>1192857.0<\/td>\n",
              "      <td>5.6<\/td>\n",
              "      <td>11988.0<\/td>\n",
              "      <td>5.59<\/td>\n",
              "    <\/tr>\n",
              "    <tr>\n",
              "      <th>23<\/th>\n",
              "      <td>Paraná<\/td>\n",
              "      <td>74845.0<\/td>\n",
              "      <td>76230.0<\/td>\n",
              "      <td>1.258644e+08<\/td>\n",
              "      <td>1.002322e+08<\/td>\n",
              "      <td>499388.48<\/td>\n",
              "      <td>-<\/td>\n",
              "      <td>24822897.07<\/td>\n",
              "      <td>-<\/td>\n",
              "      <td>-<\/td>\n",
              "      <td>1651.11<\/td>\n",
              "      <td>1681.67<\/td>\n",
              "      <td>320599.0<\/td>\n",
              "      <td>4.3<\/td>\n",
              "      <td>2950.0<\/td>\n",
              "      <td>3.94<\/td>\n",
              "    <\/tr>\n",
              "    <tr>\n",
              "      <th>24<\/th>\n",
              "      <td>Santa Catarina<\/td>\n",
              "      <td>44943.0<\/td>\n",
              "      <td>45159.0<\/td>\n",
              "      <td>6.645805e+07<\/td>\n",
              "      <td>5.284261e+07<\/td>\n",
              "      <td>366413.13<\/td>\n",
              "      <td>39375<\/td>\n",
              "      <td>12956053.43<\/td>\n",
              "      <td>39375<\/td>\n",
              "      <td>-<\/td>\n",
              "      <td>1471.65<\/td>\n",
              "      <td>1478.72<\/td>\n",
              "      <td>205917.0<\/td>\n",
              "      <td>4.6<\/td>\n",
              "      <td>1887.0<\/td>\n",
              "      <td>4.20<\/td>\n",
              "    <\/tr>\n",
              "    <tr>\n",
              "      <th>25<\/th>\n",
              "      <td>Rio Grande do Sul<\/td>\n",
              "      <td>67850.0<\/td>\n",
              "      <td>68257.0<\/td>\n",
              "      <td>1.020928e+08<\/td>\n",
              "      <td>8.317754e+07<\/td>\n",
              "      <td>666889.32<\/td>\n",
              "      <td>-<\/td>\n",
              "      <td>17939417.60<\/td>\n",
              "      <td>-<\/td>\n",
              "      <td>-<\/td>\n",
              "      <td>1495.71<\/td>\n",
              "      <td>1504.68<\/td>\n",
              "      <td>414630.0<\/td>\n",
              "      <td>6.1<\/td>\n",
              "      <td>3746.0<\/td>\n",
              "      <td>5.52<\/td>\n",
              "    <\/tr>\n",
              "    <tr>\n",
              "      <th>27<\/th>\n",
              "      <td>Mato Grosso do Sul<\/td>\n",
              "      <td>15150.0<\/td>\n",
              "      <td>15247.0<\/td>\n",
              "      <td>1.952363e+07<\/td>\n",
              "      <td>1.529613e+07<\/td>\n",
              "      <td>136920.38<\/td>\n",
              "      <td>-<\/td>\n",
              "      <td>4014367.39<\/td>\n",
              "      <td>-<\/td>\n",
              "      <td>-<\/td>\n",
              "      <td>1280.49<\/td>\n",
              "      <td>1288.69<\/td>\n",
              "      <td>70907.0<\/td>\n",
              "      <td>4.7<\/td>\n",
              "      <td>613.0<\/td>\n",
              "      <td>4.05<\/td>\n",
              "    <\/tr>\n",
              "    <tr>\n",
              "      <th>28<\/th>\n",
              "      <td>Mato Grosso<\/td>\n",
              "      <td>15824.0<\/td>\n",
              "      <td>15964.0<\/td>\n",
              "      <td>1.608209e+07<\/td>\n",
              "      <td>1.288967e+07<\/td>\n",
              "      <td>-<\/td>\n",
              "      <td>-<\/td>\n",
              "      <td>3192422.33<\/td>\n",
              "      <td>-<\/td>\n",
              "      <td>-<\/td>\n",
              "      <td>1007.40<\/td>\n",
              "      <td>1016.31<\/td>\n",
              "      <td>74218.0<\/td>\n",
              "      <td>4.7<\/td>\n",
              "      <td>683.0<\/td>\n",
              "      <td>4.32<\/td>\n",
              "    <\/tr>\n",
              "    <tr>\n",
              "      <th>29<\/th>\n",
              "      <td>Goiás<\/td>\n",
              "      <td>27835.0<\/td>\n",
              "      <td>28465.0<\/td>\n",
              "      <td>3.705342e+07<\/td>\n",
              "      <td>2.944633e+07<\/td>\n",
              "      <td>422680.15<\/td>\n",
              "      <td>67707.72<\/td>\n",
              "      <td>6922390.79<\/td>\n",
              "      <td>67707.72<\/td>\n",
              "      <td>7192.1<\/td>\n",
              "      <td>1301.72<\/td>\n",
              "      <td>1331.18<\/td>\n",
              "      <td>135793.0<\/td>\n",
              "      <td>4.9<\/td>\n",
              "      <td>1077.0<\/td>\n",
              "      <td>3.87<\/td>\n",
              "    <\/tr>\n",
              "    <tr>\n",
              "      <th>30<\/th>\n",
              "      <td>Distrito Federal<\/td>\n",
              "      <td>19976.0<\/td>\n",
              "      <td>20111.0<\/td>\n",
              "      <td>2.221615e+07<\/td>\n",
              "      <td>1.784863e+07<\/td>\n",
              "      <td>-<\/td>\n",
              "      <td>-<\/td>\n",
              "      <td>4367522.32<\/td>\n",
              "      <td>-<\/td>\n",
              "      <td>-<\/td>\n",
              "      <td>1104.68<\/td>\n",
              "      <td>1112.14<\/td>\n",
              "      <td>117029.0<\/td>\n",
              "      <td>5.9<\/td>\n",
              "      <td>592.0<\/td>\n",
              "      <td>2.96<\/td>\n",
              "    <\/tr>\n",
              "  <\/tbody>\n",
              "<\/table>\n",
              "<\/div>"
            ]
          },
          "metadata":{
            
          },
          "output_type":"display_data"
        }
      ],
      "metadata":{
        "datalore":{
          "sheet_delimiter":false
        }
      }
    },
    {
      "cell_type":"code",
      "source":[
        "df['Região\/Unidade da Federação'] = df['Região\/Unidade da Federação'].str.strip()"
      ],
      "execution_count":12,
      "outputs":[
        
      ],
      "metadata":{
        "datalore":{
          "sheet_delimiter":false
        }
      }
    },
    {
      "cell_type":"markdown",
      "source":[
        "agora que fizemos algumas limpezas nos nossos dados, vamos criar uma nova coluna e colocar aos estados que eles pertencem, para podermos iniciar nossa EDA"
      ],
      "attachments":{
        
      },
      "metadata":{
        "datalore":{
          "sheet_delimiter":false
        }
      }
    },
    {
      "cell_type":"code",
      "source":[
        "norte = df.head(6)\n",
        "#regioes = {'Norte': ['Rondônia','Amazonas','Roraima','Pará','Amapá', 'Tocantins']}\n",
        "#df['Regiao'] = regioes"
      ],
      "execution_count":13,
      "outputs":[
        
      ],
      "metadata":{
        "datalore":{
          "sheet_delimiter":false
        }
      }
    },
    {
      "cell_type":"markdown",
      "source":[
        "Criei um dataframe chamado norte para encontrar uma maneira de conseguir adicionar a coluna regiao baseado no nome dos estados"
      ],
      "attachments":{
        
      },
      "metadata":{
        "datalore":{
          "sheet_delimiter":false
        }
      }
    },
    {
      "cell_type":"code",
      "source":[
        "regioes = {'Rondônia':'Norte','Amazonas':'Norte','Roraima':'Norte','Pará':'Norte','Amapá':'Norte','Tocantins':'Norte', 'Maranhão':'Nordeste', 'Piauí':'Nordeste','Ceará':'Nordeste','Rio Grande do Norte':'Nordeste',\n",
        "           'Paraíba':'Nordeste','Pernambuco':'Nordeste','Alagoas':'Nordeste','Sergipe':'Nordeste', 'Bahia':'Nordeste', 'Minas Gerais':'Sudeste','Espírito Santo':'Sudeste','Rio de Janeiro':'Sudeste','São Paulo':'Sudeste',\n",
        "           'Paraná':'Sul','Santa Catarina':'Sul','Rio Grande do Sul':'Sul','Mato Grosso do Sul':'Centro-Oeste','Mato Grosso':'Centro-Oeste','Goiás':'Centro-Oeste','Distrito Federal':'Centro-Oeste'}\n",
        "df['Regiao'] = df['Região\/Unidade da Federação'].map(regioes)"
      ],
      "execution_count":14,
      "outputs":[
        
      ],
      "metadata":{
        "datalore":{
          "sheet_delimiter":false
        }
      }
    },
    {
      "cell_type":"code",
      "source":[
        "df"
      ],
      "execution_count":15,
      "outputs":[
        {
          "data":{
            "text\/html":[
              "<div>\n",
              "<style scoped>\n",
              "    .dataframe tbody tr th:only-of-type {\n",
              "        vertical-align: middle;\n",
              "    }\n",
              "\n",
              "    .dataframe tbody tr th {\n",
              "        vertical-align: top;\n",
              "    }\n",
              "\n",
              "    .dataframe thead th {\n",
              "        text-align: right;\n",
              "    }\n",
              "<\/style>\n",
              "<table border=\"1\" class=\"dataframe\">\n",
              "  <thead>\n",
              "    <tr style=\"text-align: right;\">\n",
              "      <th><\/th>\n",
              "      <th>Região\/Unidade da Federação<\/th>\n",
              "      <th>Internações<\/th>\n",
              "      <th>AIH_aprovadas<\/th>\n",
              "      <th>Valor_total<\/th>\n",
              "      <th>Valor_serviços_hospitalares<\/th>\n",
              "      <th>Val_serv_hosp_-_compl_federal<\/th>\n",
              "      <th>Val_serv_hosp_-_compl_gestor<\/th>\n",
              "      <th>Valor_serviços_profissionais<\/th>\n",
              "      <th>Val_serv_prof_-_compl_federal<\/th>\n",
              "      <th>Val_serv_prof_-_compl_gestor<\/th>\n",
              "      <th>Valor_médio_AIH<\/th>\n",
              "      <th>Valor_médio_intern<\/th>\n",
              "      <th>Dias_permanência<\/th>\n",
              "      <th>Média_permanência<\/th>\n",
              "      <th>Óbitos<\/th>\n",
              "      <th>Taxa_mortalidade<\/th>\n",
              "      <th>Regiao<\/th>\n",
              "    <\/tr>\n",
              "  <\/thead>\n",
              "  <tbody>\n",
              "    <tr>\n",
              "      <th>1<\/th>\n",
              "      <td>Rondônia<\/td>\n",
              "      <td>9603.0<\/td>\n",
              "      <td>9603.0<\/td>\n",
              "      <td>9.404751e+06<\/td>\n",
              "      <td>7.666946e+06<\/td>\n",
              "      <td>-<\/td>\n",
              "      <td>-<\/td>\n",
              "      <td>1737805.51<\/td>\n",
              "      <td>-<\/td>\n",
              "      <td>-<\/td>\n",
              "      <td>979.36<\/td>\n",
              "      <td>979.36<\/td>\n",
              "      <td>53043.0<\/td>\n",
              "      <td>5.5<\/td>\n",
              "      <td>315.0<\/td>\n",
              "      <td>3.28<\/td>\n",
              "      <td>Norte<\/td>\n",
              "    <\/tr>\n",
              "    <tr>\n",
              "      <th>2<\/th>\n",
              "      <td>Amazonas<\/td>\n",
              "      <td>16248.0<\/td>\n",
              "      <td>16248.0<\/td>\n",
              "      <td>1.562431e+07<\/td>\n",
              "      <td>1.216663e+07<\/td>\n",
              "      <td>1221.31<\/td>\n",
              "      <td>-<\/td>\n",
              "      <td>3455637.92<\/td>\n",
              "      <td>-<\/td>\n",
              "      <td>-<\/td>\n",
              "      <td>961.61<\/td>\n",
              "      <td>961.61<\/td>\n",
              "      <td>85512.0<\/td>\n",
              "      <td>5.3<\/td>\n",
              "      <td>536.0<\/td>\n",
              "      <td>3.30<\/td>\n",
              "      <td>Norte<\/td>\n",
              "    <\/tr>\n",
              "    <tr>\n",
              "      <th>3<\/th>\n",
              "      <td>Roraima<\/td>\n",
              "      <td>4324.0<\/td>\n",
              "      <td>4324.0<\/td>\n",
              "      <td>3.137537e+06<\/td>\n",
              "      <td>2.356232e+06<\/td>\n",
              "      <td>-<\/td>\n",
              "      <td>-<\/td>\n",
              "      <td>781305.72<\/td>\n",
              "      <td>-<\/td>\n",
              "      <td>-<\/td>\n",
              "      <td>725.61<\/td>\n",
              "      <td>725.61<\/td>\n",
              "      <td>25560.0<\/td>\n",
              "      <td>5.9<\/td>\n",
              "      <td>171.0<\/td>\n",
              "      <td>3.95<\/td>\n",
              "      <td>Norte<\/td>\n",
              "    <\/tr>\n",
              "    <tr>\n",
              "      <th>4<\/th>\n",
              "      <td>Pará<\/td>\n",
              "      <td>34774.0<\/td>\n",
              "      <td>34774.0<\/td>\n",
              "      <td>2.817863e+07<\/td>\n",
              "      <td>2.124135e+07<\/td>\n",
              "      <td>248197.25<\/td>\n",
              "      <td>-<\/td>\n",
              "      <td>6581738.70<\/td>\n",
              "      <td>-<\/td>\n",
              "      <td>-<\/td>\n",
              "      <td>810.34<\/td>\n",
              "      <td>810.34<\/td>\n",
              "      <td>138135.0<\/td>\n",
              "      <td>4.0<\/td>\n",
              "      <td>832.0<\/td>\n",
              "      <td>2.39<\/td>\n",
              "      <td>Norte<\/td>\n",
              "    <\/tr>\n",
              "    <tr>\n",
              "      <th>5<\/th>\n",
              "      <td>Amapá<\/td>\n",
              "      <td>3407.0<\/td>\n",
              "      <td>3407.0<\/td>\n",
              "      <td>2.380728e+06<\/td>\n",
              "      <td>1.776869e+06<\/td>\n",
              "      <td>-<\/td>\n",
              "      <td>-<\/td>\n",
              "      <td>603858.34<\/td>\n",
              "      <td>-<\/td>\n",
              "      <td>-<\/td>\n",
              "      <td>698.78<\/td>\n",
              "      <td>698.78<\/td>\n",
              "      <td>18703.0<\/td>\n",
              "      <td>5.5<\/td>\n",
              "      <td>85.0<\/td>\n",
              "      <td>2.49<\/td>\n",
              "      <td>Norte<\/td>\n",
              "    <\/tr>\n",
              "    <tr>\n",
              "      <th>6<\/th>\n",
              "      <td>Tocantins<\/td>\n",
              "      <td>7007.0<\/td>\n",
              "      <td>7007.0<\/td>\n",
              "      <td>7.095859e+06<\/td>\n",
              "      <td>5.384238e+06<\/td>\n",
              "      <td>32706.72<\/td>\n",
              "      <td>-<\/td>\n",
              "      <td>1659776.34<\/td>\n",
              "      <td>-<\/td>\n",
              "      <td>-<\/td>\n",
              "      <td>1012.68<\/td>\n",
              "      <td>1012.68<\/td>\n",
              "      <td>37249.0<\/td>\n",
              "      <td>5.3<\/td>\n",
              "      <td>210.0<\/td>\n",
              "      <td>3.00<\/td>\n",
              "      <td>Norte<\/td>\n",
              "    <\/tr>\n",
              "    <tr>\n",
              "      <th>8<\/th>\n",
              "      <td>Maranhão<\/td>\n",
              "      <td>33351.0<\/td>\n",
              "      <td>33766.0<\/td>\n",
              "      <td>2.865809e+07<\/td>\n",
              "      <td>2.244814e+07<\/td>\n",
              "      <td>50267.11<\/td>\n",
              "      <td>-<\/td>\n",
              "      <td>6134105.82<\/td>\n",
              "      <td>-<\/td>\n",
              "      <td>-<\/td>\n",
              "      <td>848.73<\/td>\n",
              "      <td>859.29<\/td>\n",
              "      <td>166594.0<\/td>\n",
              "      <td>5.0<\/td>\n",
              "      <td>879.0<\/td>\n",
              "      <td>2.64<\/td>\n",
              "      <td>Nordeste<\/td>\n",
              "    <\/tr>\n",
              "    <tr>\n",
              "      <th>9<\/th>\n",
              "      <td>Piauí<\/td>\n",
              "      <td>16590.0<\/td>\n",
              "      <td>16727.0<\/td>\n",
              "      <td>1.627561e+07<\/td>\n",
              "      <td>1.293886e+07<\/td>\n",
              "      <td>77814.46<\/td>\n",
              "      <td>-<\/td>\n",
              "      <td>3217744.00<\/td>\n",
              "      <td>-<\/td>\n",
              "      <td>-<\/td>\n",
              "      <td>973.01<\/td>\n",
              "      <td>981.05<\/td>\n",
              "      <td>81932.0<\/td>\n",
              "      <td>4.9<\/td>\n",
              "      <td>480.0<\/td>\n",
              "      <td>2.89<\/td>\n",
              "      <td>Nordeste<\/td>\n",
              "    <\/tr>\n",
              "    <tr>\n",
              "      <th>10<\/th>\n",
              "      <td>Ceará<\/td>\n",
              "      <td>41228.0<\/td>\n",
              "      <td>41677.0<\/td>\n",
              "      <td>5.136341e+07<\/td>\n",
              "      <td>4.055644e+07<\/td>\n",
              "      <td>37734.25<\/td>\n",
              "      <td>-<\/td>\n",
              "      <td>10749572.15<\/td>\n",
              "      <td>-<\/td>\n",
              "      <td>-<\/td>\n",
              "      <td>1232.42<\/td>\n",
              "      <td>1245.84<\/td>\n",
              "      <td>238580.0<\/td>\n",
              "      <td>5.8<\/td>\n",
              "      <td>1662.0<\/td>\n",
              "      <td>4.03<\/td>\n",
              "      <td>Nordeste<\/td>\n",
              "    <\/tr>\n",
              "    <tr>\n",
              "      <th>11<\/th>\n",
              "      <td>Rio Grande do Norte<\/td>\n",
              "      <td>15435.0<\/td>\n",
              "      <td>15627.0<\/td>\n",
              "      <td>2.205867e+07<\/td>\n",
              "      <td>1.718067e+07<\/td>\n",
              "      <td>61849.77<\/td>\n",
              "      <td>15660.06<\/td>\n",
              "      <td>4770026.14<\/td>\n",
              "      <td>15660.06<\/td>\n",
              "      <td>9624.58<\/td>\n",
              "      <td>1411.57<\/td>\n",
              "      <td>1429.13<\/td>\n",
              "      <td>92162.0<\/td>\n",
              "      <td>6.0<\/td>\n",
              "      <td>687.0<\/td>\n",
              "      <td>4.45<\/td>\n",
              "      <td>Nordeste<\/td>\n",
              "    <\/tr>\n",
              "    <tr>\n",
              "      <th>12<\/th>\n",
              "      <td>Paraíba<\/td>\n",
              "      <td>16022.0<\/td>\n",
              "      <td>16305.0<\/td>\n",
              "      <td>1.946543e+07<\/td>\n",
              "      <td>1.531535e+07<\/td>\n",
              "      <td>-<\/td>\n",
              "      <td>-<\/td>\n",
              "      <td>4150074.84<\/td>\n",
              "      <td>-<\/td>\n",
              "      <td>-<\/td>\n",
              "      <td>1193.83<\/td>\n",
              "      <td>1214.92<\/td>\n",
              "      <td>88357.0<\/td>\n",
              "      <td>5.5<\/td>\n",
              "      <td>799.0<\/td>\n",
              "      <td>4.99<\/td>\n",
              "      <td>Nordeste<\/td>\n",
              "    <\/tr>\n",
              "    <tr>\n",
              "      <th>13<\/th>\n",
              "      <td>Pernambuco<\/td>\n",
              "      <td>49437.0<\/td>\n",
              "      <td>49882.0<\/td>\n",
              "      <td>7.036799e+07<\/td>\n",
              "      <td>5.558425e+07<\/td>\n",
              "      <td>289995.48<\/td>\n",
              "      <td>-<\/td>\n",
              "      <td>14344768.59<\/td>\n",
              "      <td>-<\/td>\n",
              "      <td>-<\/td>\n",
              "      <td>1410.69<\/td>\n",
              "      <td>1423.39<\/td>\n",
              "      <td>262688.0<\/td>\n",
              "      <td>5.3<\/td>\n",
              "      <td>2191.0<\/td>\n",
              "      <td>4.43<\/td>\n",
              "      <td>Nordeste<\/td>\n",
              "    <\/tr>\n",
              "    <tr>\n",
              "      <th>14<\/th>\n",
              "      <td>Alagoas<\/td>\n",
              "      <td>15459.0<\/td>\n",
              "      <td>15956.0<\/td>\n",
              "      <td>1.839724e+07<\/td>\n",
              "      <td>1.430781e+07<\/td>\n",
              "      <td>86485.67<\/td>\n",
              "      <td>-<\/td>\n",
              "      <td>3951723.45<\/td>\n",
              "      <td>-<\/td>\n",
              "      <td>-<\/td>\n",
              "      <td>1153.00<\/td>\n",
              "      <td>1190.07<\/td>\n",
              "      <td>79992.0<\/td>\n",
              "      <td>5.2<\/td>\n",
              "      <td>576.0<\/td>\n",
              "      <td>3.73<\/td>\n",
              "      <td>Nordeste<\/td>\n",
              "    <\/tr>\n",
              "    <tr>\n",
              "      <th>15<\/th>\n",
              "      <td>Sergipe<\/td>\n",
              "      <td>8032.0<\/td>\n",
              "      <td>8077.0<\/td>\n",
              "      <td>9.931458e+06<\/td>\n",
              "      <td>7.709589e+06<\/td>\n",
              "      <td>-<\/td>\n",
              "      <td>-<\/td>\n",
              "      <td>2221868.94<\/td>\n",
              "      <td>-<\/td>\n",
              "      <td>-<\/td>\n",
              "      <td>1229.60<\/td>\n",
              "      <td>1236.49<\/td>\n",
              "      <td>45789.0<\/td>\n",
              "      <td>5.7<\/td>\n",
              "      <td>429.0<\/td>\n",
              "      <td>5.34<\/td>\n",
              "      <td>Nordeste<\/td>\n",
              "    <\/tr>\n",
              "    <tr>\n",
              "      <th>16<\/th>\n",
              "      <td>Bahia<\/td>\n",
              "      <td>72390.0<\/td>\n",
              "      <td>73026.0<\/td>\n",
              "      <td>7.655622e+07<\/td>\n",
              "      <td>5.939778e+07<\/td>\n",
              "      <td>959180.19<\/td>\n",
              "      <td>14237.54<\/td>\n",
              "      <td>15705626.64<\/td>\n",
              "      <td>14237.54<\/td>\n",
              "      <td>18174.38<\/td>\n",
              "      <td>1048.34<\/td>\n",
              "      <td>1057.55<\/td>\n",
              "      <td>339012.0<\/td>\n",
              "      <td>4.7<\/td>\n",
              "      <td>2872.0<\/td>\n",
              "      <td>3.97<\/td>\n",
              "      <td>Nordeste<\/td>\n",
              "    <\/tr>\n",
              "    <tr>\n",
              "      <th>18<\/th>\n",
              "      <td>Minas Gerais<\/td>\n",
              "      <td>110732.0<\/td>\n",
              "      <td>111474.0<\/td>\n",
              "      <td>1.654405e+08<\/td>\n",
              "      <td>1.329964e+08<\/td>\n",
              "      <td>768340.94<\/td>\n",
              "      <td>163920.17<\/td>\n",
              "      <td>30707830.94<\/td>\n",
              "      <td>163920.17<\/td>\n",
              "      <td>210381.6<\/td>\n",
              "      <td>1484.12<\/td>\n",
              "      <td>1494.06<\/td>\n",
              "      <td>564069.0<\/td>\n",
              "      <td>5.1<\/td>\n",
              "      <td>5442.0<\/td>\n",
              "      <td>4.91<\/td>\n",
              "      <td>Sudeste<\/td>\n",
              "    <\/tr>\n",
              "    <tr>\n",
              "      <th>19<\/th>\n",
              "      <td>Espírito Santo<\/td>\n",
              "      <td>21645.0<\/td>\n",
              "      <td>21719.0<\/td>\n",
              "      <td>2.910695e+07<\/td>\n",
              "      <td>2.302760e+07<\/td>\n",
              "      <td>140302.66<\/td>\n",
              "      <td>-<\/td>\n",
              "      <td>5788359.26<\/td>\n",
              "      <td>-<\/td>\n",
              "      <td>-<\/td>\n",
              "      <td>1340.16<\/td>\n",
              "      <td>1344.74<\/td>\n",
              "      <td>106978.0<\/td>\n",
              "      <td>4.9<\/td>\n",
              "      <td>841.0<\/td>\n",
              "      <td>3.89<\/td>\n",
              "      <td>Sudeste<\/td>\n",
              "    <\/tr>\n",
              "    <tr>\n",
              "      <th>20<\/th>\n",
              "      <td>Rio de Janeiro<\/td>\n",
              "      <td>61719.0<\/td>\n",
              "      <td>63017.0<\/td>\n",
              "      <td>8.527935e+07<\/td>\n",
              "      <td>6.717371e+07<\/td>\n",
              "      <td>1278134.15<\/td>\n",
              "      <td>-<\/td>\n",
              "      <td>16220888.31<\/td>\n",
              "      <td>-<\/td>\n",
              "      <td>-<\/td>\n",
              "      <td>1353.28<\/td>\n",
              "      <td>1381.74<\/td>\n",
              "      <td>436572.0<\/td>\n",
              "      <td>7.1<\/td>\n",
              "      <td>4381.0<\/td>\n",
              "      <td>7.10<\/td>\n",
              "      <td>Sudeste<\/td>\n",
              "    <\/tr>\n",
              "    <tr>\n",
              "      <th>21<\/th>\n",
              "      <td>São Paulo<\/td>\n",
              "      <td>214299.0<\/td>\n",
              "      <td>220089.0<\/td>\n",
              "      <td>3.043141e+08<\/td>\n",
              "      <td>2.437889e+08<\/td>\n",
              "      <td>1798155.86<\/td>\n",
              "      <td>-<\/td>\n",
              "      <td>57735646.86<\/td>\n",
              "      <td>-<\/td>\n",
              "      <td>-<\/td>\n",
              "      <td>1382.69<\/td>\n",
              "      <td>1420.04<\/td>\n",
              "      <td>1192857.0<\/td>\n",
              "      <td>5.6<\/td>\n",
              "      <td>11988.0<\/td>\n",
              "      <td>5.59<\/td>\n",
              "      <td>Sudeste<\/td>\n",
              "    <\/tr>\n",
              "    <tr>\n",
              "      <th>23<\/th>\n",
              "      <td>Paraná<\/td>\n",
              "      <td>74845.0<\/td>\n",
              "      <td>76230.0<\/td>\n",
              "      <td>1.258644e+08<\/td>\n",
              "      <td>1.002322e+08<\/td>\n",
              "      <td>499388.48<\/td>\n",
              "      <td>-<\/td>\n",
              "      <td>24822897.07<\/td>\n",
              "      <td>-<\/td>\n",
              "      <td>-<\/td>\n",
              "      <td>1651.11<\/td>\n",
              "      <td>1681.67<\/td>\n",
              "      <td>320599.0<\/td>\n",
              "      <td>4.3<\/td>\n",
              "      <td>2950.0<\/td>\n",
              "      <td>3.94<\/td>\n",
              "      <td>Sul<\/td>\n",
              "    <\/tr>\n",
              "    <tr>\n",
              "      <th>24<\/th>\n",
              "      <td>Santa Catarina<\/td>\n",
              "      <td>44943.0<\/td>\n",
              "      <td>45159.0<\/td>\n",
              "      <td>6.645805e+07<\/td>\n",
              "      <td>5.284261e+07<\/td>\n",
              "      <td>366413.13<\/td>\n",
              "      <td>39375<\/td>\n",
              "      <td>12956053.43<\/td>\n",
              "      <td>39375<\/td>\n",
              "      <td>-<\/td>\n",
              "      <td>1471.65<\/td>\n",
              "      <td>1478.72<\/td>\n",
              "      <td>205917.0<\/td>\n",
              "      <td>4.6<\/td>\n",
              "      <td>1887.0<\/td>\n",
              "      <td>4.20<\/td>\n",
              "      <td>Sul<\/td>\n",
              "    <\/tr>\n",
              "    <tr>\n",
              "      <th>25<\/th>\n",
              "      <td>Rio Grande do Sul<\/td>\n",
              "      <td>67850.0<\/td>\n",
              "      <td>68257.0<\/td>\n",
              "      <td>1.020928e+08<\/td>\n",
              "      <td>8.317754e+07<\/td>\n",
              "      <td>666889.32<\/td>\n",
              "      <td>-<\/td>\n",
              "      <td>17939417.60<\/td>\n",
              "      <td>-<\/td>\n",
              "      <td>-<\/td>\n",
              "      <td>1495.71<\/td>\n",
              "      <td>1504.68<\/td>\n",
              "      <td>414630.0<\/td>\n",
              "      <td>6.1<\/td>\n",
              "      <td>3746.0<\/td>\n",
              "      <td>5.52<\/td>\n",
              "      <td>Sul<\/td>\n",
              "    <\/tr>\n",
              "    <tr>\n",
              "      <th>27<\/th>\n",
              "      <td>Mato Grosso do Sul<\/td>\n",
              "      <td>15150.0<\/td>\n",
              "      <td>15247.0<\/td>\n",
              "      <td>1.952363e+07<\/td>\n",
              "      <td>1.529613e+07<\/td>\n",
              "      <td>136920.38<\/td>\n",
              "      <td>-<\/td>\n",
              "      <td>4014367.39<\/td>\n",
              "      <td>-<\/td>\n",
              "      <td>-<\/td>\n",
              "      <td>1280.49<\/td>\n",
              "      <td>1288.69<\/td>\n",
              "      <td>70907.0<\/td>\n",
              "      <td>4.7<\/td>\n",
              "      <td>613.0<\/td>\n",
              "      <td>4.05<\/td>\n",
              "      <td>Centro-Oeste<\/td>\n",
              "    <\/tr>\n",
              "    <tr>\n",
              "      <th>28<\/th>\n",
              "      <td>Mato Grosso<\/td>\n",
              "      <td>15824.0<\/td>\n",
              "      <td>15964.0<\/td>\n",
              "      <td>1.608209e+07<\/td>\n",
              "      <td>1.288967e+07<\/td>\n",
              "      <td>-<\/td>\n",
              "      <td>-<\/td>\n",
              "      <td>3192422.33<\/td>\n",
              "      <td>-<\/td>\n",
              "      <td>-<\/td>\n",
              "      <td>1007.40<\/td>\n",
              "      <td>1016.31<\/td>\n",
              "      <td>74218.0<\/td>\n",
              "      <td>4.7<\/td>\n",
              "      <td>683.0<\/td>\n",
              "      <td>4.32<\/td>\n",
              "      <td>Centro-Oeste<\/td>\n",
              "    <\/tr>\n",
              "    <tr>\n",
              "      <th>29<\/th>\n",
              "      <td>Goiás<\/td>\n",
              "      <td>27835.0<\/td>\n",
              "      <td>28465.0<\/td>\n",
              "      <td>3.705342e+07<\/td>\n",
              "      <td>2.944633e+07<\/td>\n",
              "      <td>422680.15<\/td>\n",
              "      <td>67707.72<\/td>\n",
              "      <td>6922390.79<\/td>\n",
              "      <td>67707.72<\/td>\n",
              "      <td>7192.1<\/td>\n",
              "      <td>1301.72<\/td>\n",
              "      <td>1331.18<\/td>\n",
              "      <td>135793.0<\/td>\n",
              "      <td>4.9<\/td>\n",
              "      <td>1077.0<\/td>\n",
              "      <td>3.87<\/td>\n",
              "      <td>Centro-Oeste<\/td>\n",
              "    <\/tr>\n",
              "    <tr>\n",
              "      <th>30<\/th>\n",
              "      <td>Distrito Federal<\/td>\n",
              "      <td>19976.0<\/td>\n",
              "      <td>20111.0<\/td>\n",
              "      <td>2.221615e+07<\/td>\n",
              "      <td>1.784863e+07<\/td>\n",
              "      <td>-<\/td>\n",
              "      <td>-<\/td>\n",
              "      <td>4367522.32<\/td>\n",
              "      <td>-<\/td>\n",
              "      <td>-<\/td>\n",
              "      <td>1104.68<\/td>\n",
              "      <td>1112.14<\/td>\n",
              "      <td>117029.0<\/td>\n",
              "      <td>5.9<\/td>\n",
              "      <td>592.0<\/td>\n",
              "      <td>2.96<\/td>\n",
              "      <td>Centro-Oeste<\/td>\n",
              "    <\/tr>\n",
              "  <\/tbody>\n",
              "<\/table>\n",
              "<\/div>"
            ]
          },
          "metadata":{
            
          },
          "output_type":"display_data"
        }
      ],
      "metadata":{
        "datalore":{
          "sheet_delimiter":false
        }
      }
    },
    {
      "cell_type":"markdown",
      "source":[
        "Agora que fiz o tratamento e limpeza dos dados, posso começar a EDA"
      ],
      "attachments":{
        
      },
      "metadata":{
        "datalore":{
          "sheet_delimiter":false
        }
      }
    },
    {
      "cell_type":"code",
      "source":[
        "sns.set_style(\"darkgrid\")\n",
        "g = sns.catplot(y='Região\/Unidade da Federação', x = 'Internações', data=df, kind='bar')\n",
        "g.fig.suptitle('Estados e Internaçoes')\n",
        "g.fig.subplots_adjust(top=0.9)\n",
        "g.set_ylabels('Estados', fontsize=10)\n",
        "g.set_xlabels('Numero de internaçoes', fontsize=10)\n",
        "plt.show()"
      ],
      "execution_count":16,
      "outputs":[
        {
          "data":{
            "image\/png":"[encoded data removed]"
          },
          "metadata":{
            "image\/png":{
              
            }
          },
          "output_type":"display_data"
        }
      ],
      "metadata":{
        "datalore":{
          "sheet_delimiter":false
        }
      }
    },
    {
      "cell_type":"markdown",
      "source":[
        "Podemos ver que o estado de São Paulo e o estado com maior numero de internações, seguido por Minas Gerais e Bahia"
      ],
      "attachments":{
        
      },
      "metadata":{
        "datalore":{
          "sheet_delimiter":false
        }
      }
    },
    {
      "cell_type":"code",
      "source":[
        "g = sns.catplot(y='Internações', x = 'Regiao', data=df, kind='bar')\n",
        "g.fig.suptitle('Regioes com maior numero de internaçoes')\n",
        "g.fig.subplots_adjust(top=0.9)\n",
        "g.set_ylabels('Numero de Internaçoes', fontsize=10)\n",
        "g.set_xlabels('Regioes', fontsize=10)\n",
        "plt.show()"
      ],
      "execution_count":17,
      "outputs":[
        {
          "data":{
            "image\/png":"[encoded data removed]"
          },
          "metadata":{
            "image\/png":{
              
            }
          },
          "output_type":"display_data"
        }
      ],
      "metadata":{
        "datalore":{
          "sheet_delimiter":false
        }
      }
    },
    {
      "cell_type":"markdown",
      "source":[
        "podemos ver algo muito estranho em nossos dados, o numero de internaçoes na regiao sudeste e maior media, porem tem um intervalo de confiança muito alto, ou seja e muito possivel que tenha outlyers, e isso provavelmente se deve ao estado de São Paulo, que tem quase o dobro de internações que o segundo estado com maior, que tambem pertence a regiao sudeste, vamos observar esse fenomeno um pouco mais a frente"
      ],
      "attachments":{
        
      },
      "metadata":{
        "datalore":{
          "sheet_delimiter":false
        }
      }
    },
    {
      "cell_type":"code",
      "source":[
        "sudeste = df[df['Regiao'] == 'Sudeste']\n",
        "sudeste"
      ],
      "execution_count":18,
      "outputs":[
        {
          "data":{
            "text\/html":[
              "<div>\n",
              "<style scoped>\n",
              "    .dataframe tbody tr th:only-of-type {\n",
              "        vertical-align: middle;\n",
              "    }\n",
              "\n",
              "    .dataframe tbody tr th {\n",
              "        vertical-align: top;\n",
              "    }\n",
              "\n",
              "    .dataframe thead th {\n",
              "        text-align: right;\n",
              "    }\n",
              "<\/style>\n",
              "<table border=\"1\" class=\"dataframe\">\n",
              "  <thead>\n",
              "    <tr style=\"text-align: right;\">\n",
              "      <th><\/th>\n",
              "      <th>Região\/Unidade da Federação<\/th>\n",
              "      <th>Internações<\/th>\n",
              "      <th>AIH_aprovadas<\/th>\n",
              "      <th>Valor_total<\/th>\n",
              "      <th>Valor_serviços_hospitalares<\/th>\n",
              "      <th>Val_serv_hosp_-_compl_federal<\/th>\n",
              "      <th>Val_serv_hosp_-_compl_gestor<\/th>\n",
              "      <th>Valor_serviços_profissionais<\/th>\n",
              "      <th>Val_serv_prof_-_compl_federal<\/th>\n",
              "      <th>Val_serv_prof_-_compl_gestor<\/th>\n",
              "      <th>Valor_médio_AIH<\/th>\n",
              "      <th>Valor_médio_intern<\/th>\n",
              "      <th>Dias_permanência<\/th>\n",
              "      <th>Média_permanência<\/th>\n",
              "      <th>Óbitos<\/th>\n",
              "      <th>Taxa_mortalidade<\/th>\n",
              "      <th>Regiao<\/th>\n",
              "    <\/tr>\n",
              "  <\/thead>\n",
              "  <tbody>\n",
              "    <tr>\n",
              "      <th>18<\/th>\n",
              "      <td>Minas Gerais<\/td>\n",
              "      <td>110732.0<\/td>\n",
              "      <td>111474.0<\/td>\n",
              "      <td>1.654405e+08<\/td>\n",
              "      <td>1.329964e+08<\/td>\n",
              "      <td>768340.94<\/td>\n",
              "      <td>163920.17<\/td>\n",
              "      <td>30707830.94<\/td>\n",
              "      <td>163920.17<\/td>\n",
              "      <td>210381.6<\/td>\n",
              "      <td>1484.12<\/td>\n",
              "      <td>1494.06<\/td>\n",
              "      <td>564069.0<\/td>\n",
              "      <td>5.1<\/td>\n",
              "      <td>5442.0<\/td>\n",
              "      <td>4.91<\/td>\n",
              "      <td>Sudeste<\/td>\n",
              "    <\/tr>\n",
              "    <tr>\n",
              "      <th>19<\/th>\n",
              "      <td>Espírito Santo<\/td>\n",
              "      <td>21645.0<\/td>\n",
              "      <td>21719.0<\/td>\n",
              "      <td>2.910695e+07<\/td>\n",
              "      <td>2.302760e+07<\/td>\n",
              "      <td>140302.66<\/td>\n",
              "      <td>-<\/td>\n",
              "      <td>5788359.26<\/td>\n",
              "      <td>-<\/td>\n",
              "      <td>-<\/td>\n",
              "      <td>1340.16<\/td>\n",
              "      <td>1344.74<\/td>\n",
              "      <td>106978.0<\/td>\n",
              "      <td>4.9<\/td>\n",
              "      <td>841.0<\/td>\n",
              "      <td>3.89<\/td>\n",
              "      <td>Sudeste<\/td>\n",
              "    <\/tr>\n",
              "    <tr>\n",
              "      <th>20<\/th>\n",
              "      <td>Rio de Janeiro<\/td>\n",
              "      <td>61719.0<\/td>\n",
              "      <td>63017.0<\/td>\n",
              "      <td>8.527935e+07<\/td>\n",
              "      <td>6.717371e+07<\/td>\n",
              "      <td>1278134.15<\/td>\n",
              "      <td>-<\/td>\n",
              "      <td>16220888.31<\/td>\n",
              "      <td>-<\/td>\n",
              "      <td>-<\/td>\n",
              "      <td>1353.28<\/td>\n",
              "      <td>1381.74<\/td>\n",
              "      <td>436572.0<\/td>\n",
              "      <td>7.1<\/td>\n",
              "      <td>4381.0<\/td>\n",
              "      <td>7.10<\/td>\n",
              "      <td>Sudeste<\/td>\n",
              "    <\/tr>\n",
              "    <tr>\n",
              "      <th>21<\/th>\n",
              "      <td>São Paulo<\/td>\n",
              "      <td>214299.0<\/td>\n",
              "      <td>220089.0<\/td>\n",
              "      <td>3.043141e+08<\/td>\n",
              "      <td>2.437889e+08<\/td>\n",
              "      <td>1798155.86<\/td>\n",
              "      <td>-<\/td>\n",
              "      <td>57735646.86<\/td>\n",
              "      <td>-<\/td>\n",
              "      <td>-<\/td>\n",
              "      <td>1382.69<\/td>\n",
              "      <td>1420.04<\/td>\n",
              "      <td>1192857.0<\/td>\n",
              "      <td>5.6<\/td>\n",
              "      <td>11988.0<\/td>\n",
              "      <td>5.59<\/td>\n",
              "      <td>Sudeste<\/td>\n",
              "    <\/tr>\n",
              "  <\/tbody>\n",
              "<\/table>\n",
              "<\/div>"
            ]
          },
          "metadata":{
            
          },
          "output_type":"display_data"
        }
      ],
      "metadata":{
        "datalore":{
          "sheet_delimiter":false
        }
      }
    },
    {
      "cell_type":"code",
      "source":[
        "g = sns.catplot(y='Internações', x = 'Regiao', data=df, kind='box')\n",
        "g.fig.suptitle('Regiao')\n",
        "g.fig.subplots_adjust(top=0.9)\n",
        "g.set_ylabels('Numero de Internaçoes', fontsize=10)\n",
        "g.set_xlabels('Regiao', fontsize=10)\n",
        "plt.show()"
      ],
      "execution_count":19,
      "outputs":[
        {
          "data":{
            "image\/png":"[encoded data removed]"
          },
          "metadata":{
            "image\/png":{
              
            }
          },
          "output_type":"display_data"
        }
      ],
      "metadata":{
        "datalore":{
          "sheet_delimiter":false
        }
      }
    },
    {
      "cell_type":"markdown",
      "source":[
        "graças ao boxplot podemos ver se a outlyers em nosso conjunto, podemos ver que a regiao sudeste nao tem outlyers, entretanto a regiao norte possui, ou seja a um valor discrepante, ja que a regiao norte e a regiao com o menor numero de internaçoes, mas vemos que a regiao sul tem seus numeros de internaçoes dentro dos numeros da regiao sudeste, entao nao ha uma enorme difenrença."
      ],
      "attachments":{
        
      },
      "metadata":{
        "datalore":{
          "sheet_delimiter":false
        }
      }
    },
    {
      "cell_type":"code",
      "source":[
        "df.describe()"
      ],
      "execution_count":20,
      "outputs":[
        {
          "data":{
            "text\/html":[
              "<div>\n",
              "<style scoped>\n",
              "    .dataframe tbody tr th:only-of-type {\n",
              "        vertical-align: middle;\n",
              "    }\n",
              "\n",
              "    .dataframe tbody tr th {\n",
              "        vertical-align: top;\n",
              "    }\n",
              "\n",
              "    .dataframe thead th {\n",
              "        text-align: right;\n",
              "    }\n",
              "<\/style>\n",
              "<table border=\"1\" class=\"dataframe\">\n",
              "  <thead>\n",
              "    <tr style=\"text-align: right;\">\n",
              "      <th><\/th>\n",
              "      <th>Internações<\/th>\n",
              "      <th>AIH_aprovadas<\/th>\n",
              "      <th>Valor_total<\/th>\n",
              "      <th>Valor_serviços_hospitalares<\/th>\n",
              "      <th>Valor_serviços_profissionais<\/th>\n",
              "      <th>Valor_médio_AIH<\/th>\n",
              "      <th>Valor_médio_intern<\/th>\n",
              "      <th>Dias_permanência<\/th>\n",
              "      <th>Média_permanência<\/th>\n",
              "      <th>Óbitos<\/th>\n",
              "      <th>Taxa_mortalidade<\/th>\n",
              "    <\/tr>\n",
              "  <\/thead>\n",
              "  <tbody>\n",
              "    <tr>\n",
              "      <th>count<\/th>\n",
              "      <td>26.000000<\/td>\n",
              "      <td>26.000000<\/td>\n",
              "      <td>2.600000e+01<\/td>\n",
              "      <td>2.600000e+01<\/td>\n",
              "      <td>2.600000e+01<\/td>\n",
              "      <td>26.000000<\/td>\n",
              "      <td>26.000000<\/td>\n",
              "      <td>2.600000e+01<\/td>\n",
              "      <td>26.000000<\/td>\n",
              "      <td>26.000000<\/td>\n",
              "      <td>26.000000<\/td>\n",
              "    <\/tr>\n",
              "    <tr>\n",
              "      <th>mean<\/th>\n",
              "      <td>39158.653846<\/td>\n",
              "      <td>39697.615385<\/td>\n",
              "      <td>5.201259e+07<\/td>\n",
              "      <td>4.133657e+07<\/td>\n",
              "      <td>1.018205e+07<\/td>\n",
              "      <td>1175.483846<\/td>\n",
              "      <td>1187.695385<\/td>\n",
              "      <td>2.074183e+05<\/td>\n",
              "      <td>5.288462<\/td>\n",
              "      <td>1804.769231<\/td>\n",
              "      <td>4.047308<\/td>\n",
              "    <\/tr>\n",
              "    <tr>\n",
              "      <th>std<\/th>\n",
              "      <td>44582.002398<\/td>\n",
              "      <td>45606.627008<\/td>\n",
              "      <td>6.572035e+07<\/td>\n",
              "      <td>5.272710e+07<\/td>\n",
              "      <td>1.235337e+07<\/td>\n",
              "      <td>255.288233<\/td>\n",
              "      <td>261.775681<\/td>\n",
              "      <td>2.462543e+05<\/td>\n",
              "      <td>0.650739<\/td>\n",
              "      <td>2504.308628<\/td>\n",
              "      <td>1.089589<\/td>\n",
              "    <\/tr>\n",
              "    <tr>\n",
              "      <th>min<\/th>\n",
              "      <td>3407.000000<\/td>\n",
              "      <td>3407.000000<\/td>\n",
              "      <td>2.380728e+06<\/td>\n",
              "      <td>1.776869e+06<\/td>\n",
              "      <td>6.038583e+05<\/td>\n",
              "      <td>698.780000<\/td>\n",
              "      <td>698.780000<\/td>\n",
              "      <td>1.870300e+04<\/td>\n",
              "      <td>4.000000<\/td>\n",
              "      <td>85.000000<\/td>\n",
              "      <td>2.390000<\/td>\n",
              "    <\/tr>\n",
              "    <tr>\n",
              "      <th>25%<\/th>\n",
              "      <td>15441.000000<\/td>\n",
              "      <td>15709.250000<\/td>\n",
              "      <td>1.613047e+07<\/td>\n",
              "      <td>1.290196e+07<\/td>\n",
              "      <td>3.277217e+06<\/td>\n",
              "      <td>986.370000<\/td>\n",
              "      <td>988.957500<\/td>\n",
              "      <td>7.566150e+04<\/td>\n",
              "      <td>4.900000<\/td>\n",
              "      <td>546.000000<\/td>\n",
              "      <td>3.285000<\/td>\n",
              "    <\/tr>\n",
              "    <tr>\n",
              "      <th>50%<\/th>\n",
              "      <td>20810.500000<\/td>\n",
              "      <td>20915.000000<\/td>\n",
              "      <td>2.519739e+07<\/td>\n",
              "      <td>1.954499e+07<\/td>\n",
              "      <td>5.279193e+06<\/td>\n",
              "      <td>1211.715000<\/td>\n",
              "      <td>1225.705000<\/td>\n",
              "      <td>1.120035e+05<\/td>\n",
              "      <td>5.300000<\/td>\n",
              "      <td>815.500000<\/td>\n",
              "      <td>3.960000<\/td>\n",
              "    <\/tr>\n",
              "    <tr>\n",
              "      <th>75%<\/th>\n",
              "      <td>48313.500000<\/td>\n",
              "      <td>48701.250000<\/td>\n",
              "      <td>6.939050e+07<\/td>\n",
              "      <td>5.489884e+07<\/td>\n",
              "      <td>1.399759e+07<\/td>\n",
              "      <td>1375.337500<\/td>\n",
              "      <td>1410.465000<\/td>\n",
              "      <td>2.566610e+05<\/td>\n",
              "      <td>5.675000<\/td>\n",
              "      <td>2115.000000<\/td>\n",
              "      <td>4.445000<\/td>\n",
              "    <\/tr>\n",
              "    <tr>\n",
              "      <th>max<\/th>\n",
              "      <td>214299.000000<\/td>\n",
              "      <td>220089.000000<\/td>\n",
              "      <td>3.043141e+08<\/td>\n",
              "      <td>2.437889e+08<\/td>\n",
              "      <td>5.773565e+07<\/td>\n",
              "      <td>1651.110000<\/td>\n",
              "      <td>1681.670000<\/td>\n",
              "      <td>1.192857e+06<\/td>\n",
              "      <td>7.100000<\/td>\n",
              "      <td>11988.000000<\/td>\n",
              "      <td>7.100000<\/td>\n",
              "    <\/tr>\n",
              "  <\/tbody>\n",
              "<\/table>\n",
              "<\/div>"
            ]
          },
          "metadata":{
            
          },
          "output_type":"display_data"
        }
      ],
      "metadata":{
        "datalore":{
          "sheet_delimiter":false
        }
      }
    },
    {
      "cell_type":"code",
      "source":[
        "sns.histplot(data=df, x='Internações', bins=10)\n",
        "plt.show()"
      ],
      "execution_count":21,
      "outputs":[
        {
          "data":{
            "image\/png":"[encoded data removed]"
          },
          "metadata":{
            "image\/png":{
              
            }
          },
          "output_type":"display_data"
        }
      ],
      "metadata":{
        "datalore":{
          "sheet_delimiter":false
        }
      }
    },
    {
      "cell_type":"markdown",
      "source":[
        "com o esse histograma vemos a distribuiçao dos nossos dados, que esta com sua calda a esquerda, uma assimetria positiva, temos como maioria um numero de internaçoes entre aproximadamente 10000, e 20000"
      ],
      "attachments":{
        
      },
      "metadata":{
        "datalore":{
          "sheet_delimiter":false
        }
      }
    },
    {
      "cell_type":"code",
      "source":[
        "g = sns.relplot(data=df, x=\"Internações\", y=\"AIH_aprovadas\")\n",
        "g.fig.suptitle(\"Internaçoes x AIH\")\n",
        "plt.show()"
      ],
      "execution_count":22,
      "outputs":[
        {
          "data":{
            "image\/png":"[encoded data removed]"
          },
          "metadata":{
            "image\/png":{
              
            }
          },
          "output_type":"display_data"
        }
      ],
      "metadata":{
        "datalore":{
          "sheet_delimiter":false
        }
      }
    },
    {
      "cell_type":"markdown",
      "source":[
        "Ha uma relaçao positiva entre nossos dados, ou seja, quanto maior é o valor de AIH aprovados maior o numero de internaçoes, dessa forma podemos assumir que a distribuiçao de AIH e extremamente similar a de internaçoes, ou seja praticamente todas as AIH sao internaçoes."
      ],
      "attachments":{
        
      },
      "metadata":{
        "datalore":{
          "sheet_delimiter":false
        }
      }
    },
    {
      "cell_type":"code",
      "source":[
        "g = sns.catplot(y='Valor_total', x = 'Regiao', data=df, kind='bar')\n",
        "g.fig.suptitle('Valores gastos por regiao')\n",
        "g.fig.subplots_adjust(top=0.9)\n",
        "g.set_ylabels('Gasto', fontsize=10)\n",
        "g.set_xlabels('Regioes', fontsize=10)\n",
        "plt.show()"
      ],
      "execution_count":23,
      "outputs":[
        {
          "data":{
            "image\/png":"[encoded data removed]"
          },
          "metadata":{
            "image\/png":{
              
            }
          },
          "output_type":"display_data"
        }
      ],
      "metadata":{
        "datalore":{
          "sheet_delimiter":false
        }
      }
    },
    {
      "cell_type":"markdown",
      "source":[
        "E novamente vemos que todos os dados sao extremamente semelhantes, a regiao sudeste foi onde houve mais gasto."
      ],
      "attachments":{
        
      },
      "metadata":{
        "datalore":{
          "sheet_delimiter":false
        }
      }
    },
    {
      "cell_type":"code",
      "source":[
        "g = sns.catplot(y='Valor_médio_AIH', x = 'Regiao', data=df, kind='bar')\n",
        "g.fig.suptitle('Valores AIH por regiao')\n",
        "g.fig.subplots_adjust(top=0.9)\n",
        "g.set_ylabels('Gasto', fontsize=10)\n",
        "g.set_xlabels('Regioes', fontsize=10)\n",
        "plt.show()"
      ],
      "execution_count":24,
      "outputs":[
        {
          "data":{
            "image\/png":"[encoded data removed]"
          },
          "metadata":{
            "image\/png":{
              
            }
          },
          "output_type":"display_data"
        }
      ],
      "metadata":{
        "datalore":{
          "sheet_delimiter":false
        }
      }
    },
    {
      "cell_type":"markdown",
      "source":[
        "Podemos ver quanto e a media de cada internaçao em cada regiao, podemos ver que a regiao sul e onde e um maior gasto por internaçao, sem seguida da regiao sudeste, e a regiao norte onde ha menos internaçoes, o custo tambem e menor."
      ],
      "attachments":{
        
      },
      "metadata":{
        "datalore":{
          "sheet_delimiter":false
        }
      }
    },
    {
      "cell_type":"code",
      "source":[
        "g = sns.relplot(data=df, y=\"Internações\", x=\"Valor_médio_AIH\", hue='Regiao')\n",
        "g.fig.suptitle(\"Internaçoes x Valor Medio\")\n",
        "plt.show()"
      ],
      "execution_count":25,
      "outputs":[
        {
          "data":{
            "image\/png":"[encoded data removed]"
          },
          "metadata":{
            "image\/png":{
              
            }
          },
          "output_type":"display_data"
        }
      ],
      "metadata":{
        "datalore":{
          "sheet_delimiter":false
        }
      }
    },
    {
      "cell_type":"markdown",
      "source":[
        "podemos ver que a um aumento entre a internaçoes e o valor, porem ele nao e tao grande"
      ],
      "attachments":{
        
      },
      "metadata":{
        "datalore":{
          "sheet_delimiter":false
        }
      }
    },
    {
      "cell_type":"code",
      "source":[
        "g = sns.relplot(data=df, y=\"Valor_total\", x=\"Valor_médio_AIH\", hue='Regiao')\n",
        "g.fig.suptitle(\"Valor Total x Valor Medio\")\n",
        "plt.show()"
      ],
      "execution_count":26,
      "outputs":[
        {
          "data":{
            "image\/png":"[encoded data removed]"
          },
          "metadata":{
            "image\/png":{
              
            }
          },
          "output_type":"display_data"
        }
      ],
      "metadata":{
        "datalore":{
          "sheet_delimiter":false
        }
      }
    },
    {
      "cell_type":"markdown",
      "source":[
        "vemos aqui que temos uma pequena relaçao entre as duas variaveis, temos em vista que quanto maior a media, maior o valor total"
      ],
      "attachments":{
        
      },
      "metadata":{
        "datalore":{
          "sheet_delimiter":false
        }
      }
    },
    {
      "cell_type":"code",
      "source":[
        "g = sns.catplot(y='Valor_total', x = 'Regiao', data=df, kind='box')\n",
        "g.fig.suptitle('Gasto e Regiao')\n",
        "g.fig.subplots_adjust(top=0.9)\n",
        "g.set_ylabels('Valor Total', fontsize=10)\n",
        "g.set_xlabels('Regiao', fontsize=10)\n",
        "plt.show()"
      ],
      "execution_count":27,
      "outputs":[
        {
          "data":{
            "image\/png":"[encoded data removed]"
          },
          "metadata":{
            "image\/png":{
              
            }
          },
          "output_type":"display_data"
        }
      ],
      "metadata":{
        "datalore":{
          "sheet_delimiter":false
        }
      }
    },
    {
      "cell_type":"code",
      "source":[
        "df[['Região\/Unidade da Federação','Valor_serviços_hospitalares', 'Valor_serviços_profissionais']]"
      ],
      "execution_count":28,
      "outputs":[
        {
          "data":{
            "text\/html":[
              "<div>\n",
              "<style scoped>\n",
              "    .dataframe tbody tr th:only-of-type {\n",
              "        vertical-align: middle;\n",
              "    }\n",
              "\n",
              "    .dataframe tbody tr th {\n",
              "        vertical-align: top;\n",
              "    }\n",
              "\n",
              "    .dataframe thead th {\n",
              "        text-align: right;\n",
              "    }\n",
              "<\/style>\n",
              "<table border=\"1\" class=\"dataframe\">\n",
              "  <thead>\n",
              "    <tr style=\"text-align: right;\">\n",
              "      <th><\/th>\n",
              "      <th>Região\/Unidade da Federação<\/th>\n",
              "      <th>Valor_serviços_hospitalares<\/th>\n",
              "      <th>Valor_serviços_profissionais<\/th>\n",
              "    <\/tr>\n",
              "  <\/thead>\n",
              "  <tbody>\n",
              "    <tr>\n",
              "      <th>1<\/th>\n",
              "      <td>Rondônia<\/td>\n",
              "      <td>7.666946e+06<\/td>\n",
              "      <td>1737805.51<\/td>\n",
              "    <\/tr>\n",
              "    <tr>\n",
              "      <th>2<\/th>\n",
              "      <td>Amazonas<\/td>\n",
              "      <td>1.216663e+07<\/td>\n",
              "      <td>3455637.92<\/td>\n",
              "    <\/tr>\n",
              "    <tr>\n",
              "      <th>3<\/th>\n",
              "      <td>Roraima<\/td>\n",
              "      <td>2.356232e+06<\/td>\n",
              "      <td>781305.72<\/td>\n",
              "    <\/tr>\n",
              "    <tr>\n",
              "      <th>4<\/th>\n",
              "      <td>Pará<\/td>\n",
              "      <td>2.124135e+07<\/td>\n",
              "      <td>6581738.70<\/td>\n",
              "    <\/tr>\n",
              "    <tr>\n",
              "      <th>5<\/th>\n",
              "      <td>Amapá<\/td>\n",
              "      <td>1.776869e+06<\/td>\n",
              "      <td>603858.34<\/td>\n",
              "    <\/tr>\n",
              "    <tr>\n",
              "      <th>6<\/th>\n",
              "      <td>Tocantins<\/td>\n",
              "      <td>5.384238e+06<\/td>\n",
              "      <td>1659776.34<\/td>\n",
              "    <\/tr>\n",
              "    <tr>\n",
              "      <th>8<\/th>\n",
              "      <td>Maranhão<\/td>\n",
              "      <td>2.244814e+07<\/td>\n",
              "      <td>6134105.82<\/td>\n",
              "    <\/tr>\n",
              "    <tr>\n",
              "      <th>9<\/th>\n",
              "      <td>Piauí<\/td>\n",
              "      <td>1.293886e+07<\/td>\n",
              "      <td>3217744.00<\/td>\n",
              "    <\/tr>\n",
              "    <tr>\n",
              "      <th>10<\/th>\n",
              "      <td>Ceará<\/td>\n",
              "      <td>4.055644e+07<\/td>\n",
              "      <td>10749572.15<\/td>\n",
              "    <\/tr>\n",
              "    <tr>\n",
              "      <th>11<\/th>\n",
              "      <td>Rio Grande do Norte<\/td>\n",
              "      <td>1.718067e+07<\/td>\n",
              "      <td>4770026.14<\/td>\n",
              "    <\/tr>\n",
              "    <tr>\n",
              "      <th>12<\/th>\n",
              "      <td>Paraíba<\/td>\n",
              "      <td>1.531535e+07<\/td>\n",
              "      <td>4150074.84<\/td>\n",
              "    <\/tr>\n",
              "    <tr>\n",
              "      <th>13<\/th>\n",
              "      <td>Pernambuco<\/td>\n",
              "      <td>5.558425e+07<\/td>\n",
              "      <td>14344768.59<\/td>\n",
              "    <\/tr>\n",
              "    <tr>\n",
              "      <th>14<\/th>\n",
              "      <td>Alagoas<\/td>\n",
              "      <td>1.430781e+07<\/td>\n",
              "      <td>3951723.45<\/td>\n",
              "    <\/tr>\n",
              "    <tr>\n",
              "      <th>15<\/th>\n",
              "      <td>Sergipe<\/td>\n",
              "      <td>7.709589e+06<\/td>\n",
              "      <td>2221868.94<\/td>\n",
              "    <\/tr>\n",
              "    <tr>\n",
              "      <th>16<\/th>\n",
              "      <td>Bahia<\/td>\n",
              "      <td>5.939778e+07<\/td>\n",
              "      <td>15705626.64<\/td>\n",
              "    <\/tr>\n",
              "    <tr>\n",
              "      <th>18<\/th>\n",
              "      <td>Minas Gerais<\/td>\n",
              "      <td>1.329964e+08<\/td>\n",
              "      <td>30707830.94<\/td>\n",
              "    <\/tr>\n",
              "    <tr>\n",
              "      <th>19<\/th>\n",
              "      <td>Espírito Santo<\/td>\n",
              "      <td>2.302760e+07<\/td>\n",
              "      <td>5788359.26<\/td>\n",
              "    <\/tr>\n",
              "    <tr>\n",
              "      <th>20<\/th>\n",
              "      <td>Rio de Janeiro<\/td>\n",
              "      <td>6.717371e+07<\/td>\n",
              "      <td>16220888.31<\/td>\n",
              "    <\/tr>\n",
              "    <tr>\n",
              "      <th>21<\/th>\n",
              "      <td>São Paulo<\/td>\n",
              "      <td>2.437889e+08<\/td>\n",
              "      <td>57735646.86<\/td>\n",
              "    <\/tr>\n",
              "    <tr>\n",
              "      <th>23<\/th>\n",
              "      <td>Paraná<\/td>\n",
              "      <td>1.002322e+08<\/td>\n",
              "      <td>24822897.07<\/td>\n",
              "    <\/tr>\n",
              "    <tr>\n",
              "      <th>24<\/th>\n",
              "      <td>Santa Catarina<\/td>\n",
              "      <td>5.284261e+07<\/td>\n",
              "      <td>12956053.43<\/td>\n",
              "    <\/tr>\n",
              "    <tr>\n",
              "      <th>25<\/th>\n",
              "      <td>Rio Grande do Sul<\/td>\n",
              "      <td>8.317754e+07<\/td>\n",
              "      <td>17939417.60<\/td>\n",
              "    <\/tr>\n",
              "    <tr>\n",
              "      <th>27<\/th>\n",
              "      <td>Mato Grosso do Sul<\/td>\n",
              "      <td>1.529613e+07<\/td>\n",
              "      <td>4014367.39<\/td>\n",
              "    <\/tr>\n",
              "    <tr>\n",
              "      <th>28<\/th>\n",
              "      <td>Mato Grosso<\/td>\n",
              "      <td>1.288967e+07<\/td>\n",
              "      <td>3192422.33<\/td>\n",
              "    <\/tr>\n",
              "    <tr>\n",
              "      <th>29<\/th>\n",
              "      <td>Goiás<\/td>\n",
              "      <td>2.944633e+07<\/td>\n",
              "      <td>6922390.79<\/td>\n",
              "    <\/tr>\n",
              "    <tr>\n",
              "      <th>30<\/th>\n",
              "      <td>Distrito Federal<\/td>\n",
              "      <td>1.784863e+07<\/td>\n",
              "      <td>4367522.32<\/td>\n",
              "    <\/tr>\n",
              "  <\/tbody>\n",
              "<\/table>\n",
              "<\/div>"
            ]
          },
          "metadata":{
            
          },
          "output_type":"display_data"
        }
      ],
      "metadata":{
        "datalore":{
          "sheet_delimiter":false
        }
      }
    },
    {
      "cell_type":"code",
      "source":[
        "g = sns.catplot(y='Valor_serviços_hospitalares', x = 'Regiao', data=df, kind='bar')\n",
        "gg = sns.catplot(y='Valor_serviços_profissionais', x = 'Regiao', data=df, kind='bar')\n",
        "\n",
        "g.fig.suptitle('Valor dos serviços hospitalares')\n",
        "g.fig.subplots_adjust(top=0.9)\n",
        "g.set_ylabels('Gasto', fontsize=10)\n",
        "g.set_xlabels('Regioes', fontsize=10)\n",
        "\n",
        "gg.fig.suptitle('Valor dos serviços profissionais')\n",
        "gg.fig.subplots_adjust(top=0.9)\n",
        "gg.set_ylabels('Gasto', fontsize=10)\n",
        "gg.set_xlabels('Regioes', fontsize=10)\n",
        "\n",
        "\n",
        "plt.show()"
      ],
      "execution_count":29,
      "outputs":[
        {
          "data":{
            "image\/png":"[encoded data removed]"
          },
          "metadata":{
            "image\/png":{
              
            }
          },
          "output_type":"display_data"
        }
      ],
      "metadata":{
        "datalore":{
          "sheet_delimiter":false
        }
      }
    },
    {
      "cell_type":"code",
      "source":[
        "g = sns.relplot(data=df, y='Valor_serviços_hospitalares', x='Valor_serviços_profissionais')\n",
        "g.fig.suptitle(\"Valor de serviços Hospitalares x Valor de serviços profissionais\")\n",
        "g.fig.subplots_adjust(top=0.9)\n",
        "plt.show()"
      ],
      "execution_count":30,
      "outputs":[
        {
          "data":{
            "image\/png":"[encoded data removed]"
          },
          "metadata":{
            "image\/png":{
              
            }
          },
          "output_type":"display_data"
        }
      ],
      "metadata":{
        "datalore":{
          "sheet_delimiter":false
        }
      }
    },
    {
      "cell_type":"markdown",
      "source":[
        "novamente vemos uma relaçao com o gasto com os serviços hospitalates e com os serviços dos profissionais."
      ],
      "attachments":{
        
      },
      "metadata":{
        "datalore":{
          "sheet_delimiter":false
        }
      }
    },
    {
      "cell_type":"code",
      "source":[
        "sns.histplot(data=df, x='Valor_serviços_hospitalares', bins=15, hue='Regiao')\n",
        "plt.show()"
      ],
      "execution_count":31,
      "outputs":[
        {
          "data":{
            "image\/png":"[encoded data removed]"
          },
          "metadata":{
            "image\/png":{
              
            }
          },
          "output_type":"display_data"
        }
      ],
      "metadata":{
        "datalore":{
          "sheet_delimiter":false
        }
      }
    },
    {
      "cell_type":"markdown",
      "source":[
        "vemos que a distribuiçao dos nossos dados e assimetrica positiva, vemos novamente que os maiores gastos pertecem a regiao sudeste, entretanto isso ainda nao explica o porque a regiao sul possui uma maior media de gasto por internaçao."
      ],
      "attachments":{
        
      },
      "metadata":{
        "datalore":{
          "sheet_delimiter":false
        }
      }
    },
    {
      "cell_type":"code",
      "source":[
        "df.head()"
      ],
      "execution_count":32,
      "outputs":[
        {
          "data":{
            "text\/html":[
              "<div>\n",
              "<style scoped>\n",
              "    .dataframe tbody tr th:only-of-type {\n",
              "        vertical-align: middle;\n",
              "    }\n",
              "\n",
              "    .dataframe tbody tr th {\n",
              "        vertical-align: top;\n",
              "    }\n",
              "\n",
              "    .dataframe thead th {\n",
              "        text-align: right;\n",
              "    }\n",
              "<\/style>\n",
              "<table border=\"1\" class=\"dataframe\">\n",
              "  <thead>\n",
              "    <tr style=\"text-align: right;\">\n",
              "      <th><\/th>\n",
              "      <th>Região\/Unidade da Federação<\/th>\n",
              "      <th>Internações<\/th>\n",
              "      <th>AIH_aprovadas<\/th>\n",
              "      <th>Valor_total<\/th>\n",
              "      <th>Valor_serviços_hospitalares<\/th>\n",
              "      <th>Val_serv_hosp_-_compl_federal<\/th>\n",
              "      <th>Val_serv_hosp_-_compl_gestor<\/th>\n",
              "      <th>Valor_serviços_profissionais<\/th>\n",
              "      <th>Val_serv_prof_-_compl_federal<\/th>\n",
              "      <th>Val_serv_prof_-_compl_gestor<\/th>\n",
              "      <th>Valor_médio_AIH<\/th>\n",
              "      <th>Valor_médio_intern<\/th>\n",
              "      <th>Dias_permanência<\/th>\n",
              "      <th>Média_permanência<\/th>\n",
              "      <th>Óbitos<\/th>\n",
              "      <th>Taxa_mortalidade<\/th>\n",
              "      <th>Regiao<\/th>\n",
              "    <\/tr>\n",
              "  <\/thead>\n",
              "  <tbody>\n",
              "    <tr>\n",
              "      <th>1<\/th>\n",
              "      <td>Rondônia<\/td>\n",
              "      <td>9603.0<\/td>\n",
              "      <td>9603.0<\/td>\n",
              "      <td>9404751.41<\/td>\n",
              "      <td>7666945.90<\/td>\n",
              "      <td>-<\/td>\n",
              "      <td>-<\/td>\n",
              "      <td>1737805.51<\/td>\n",
              "      <td>-<\/td>\n",
              "      <td>-<\/td>\n",
              "      <td>979.36<\/td>\n",
              "      <td>979.36<\/td>\n",
              "      <td>53043.0<\/td>\n",
              "      <td>5.5<\/td>\n",
              "      <td>315.0<\/td>\n",
              "      <td>3.28<\/td>\n",
              "      <td>Norte<\/td>\n",
              "    <\/tr>\n",
              "    <tr>\n",
              "      <th>2<\/th>\n",
              "      <td>Amazonas<\/td>\n",
              "      <td>16248.0<\/td>\n",
              "      <td>16248.0<\/td>\n",
              "      <td>15624312.73<\/td>\n",
              "      <td>12166634.07<\/td>\n",
              "      <td>1221.31<\/td>\n",
              "      <td>-<\/td>\n",
              "      <td>3455637.92<\/td>\n",
              "      <td>-<\/td>\n",
              "      <td>-<\/td>\n",
              "      <td>961.61<\/td>\n",
              "      <td>961.61<\/td>\n",
              "      <td>85512.0<\/td>\n",
              "      <td>5.3<\/td>\n",
              "      <td>536.0<\/td>\n",
              "      <td>3.30<\/td>\n",
              "      <td>Norte<\/td>\n",
              "    <\/tr>\n",
              "    <tr>\n",
              "      <th>3<\/th>\n",
              "      <td>Roraima<\/td>\n",
              "      <td>4324.0<\/td>\n",
              "      <td>4324.0<\/td>\n",
              "      <td>3137537.40<\/td>\n",
              "      <td>2356231.68<\/td>\n",
              "      <td>-<\/td>\n",
              "      <td>-<\/td>\n",
              "      <td>781305.72<\/td>\n",
              "      <td>-<\/td>\n",
              "      <td>-<\/td>\n",
              "      <td>725.61<\/td>\n",
              "      <td>725.61<\/td>\n",
              "      <td>25560.0<\/td>\n",
              "      <td>5.9<\/td>\n",
              "      <td>171.0<\/td>\n",
              "      <td>3.95<\/td>\n",
              "      <td>Norte<\/td>\n",
              "    <\/tr>\n",
              "    <tr>\n",
              "      <th>4<\/th>\n",
              "      <td>Pará<\/td>\n",
              "      <td>34774.0<\/td>\n",
              "      <td>34774.0<\/td>\n",
              "      <td>28178633.44<\/td>\n",
              "      <td>21241354.07<\/td>\n",
              "      <td>248197.25<\/td>\n",
              "      <td>-<\/td>\n",
              "      <td>6581738.70<\/td>\n",
              "      <td>-<\/td>\n",
              "      <td>-<\/td>\n",
              "      <td>810.34<\/td>\n",
              "      <td>810.34<\/td>\n",
              "      <td>138135.0<\/td>\n",
              "      <td>4.0<\/td>\n",
              "      <td>832.0<\/td>\n",
              "      <td>2.39<\/td>\n",
              "      <td>Norte<\/td>\n",
              "    <\/tr>\n",
              "    <tr>\n",
              "      <th>5<\/th>\n",
              "      <td>Amapá<\/td>\n",
              "      <td>3407.0<\/td>\n",
              "      <td>3407.0<\/td>\n",
              "      <td>2380727.69<\/td>\n",
              "      <td>1776869.35<\/td>\n",
              "      <td>-<\/td>\n",
              "      <td>-<\/td>\n",
              "      <td>603858.34<\/td>\n",
              "      <td>-<\/td>\n",
              "      <td>-<\/td>\n",
              "      <td>698.78<\/td>\n",
              "      <td>698.78<\/td>\n",
              "      <td>18703.0<\/td>\n",
              "      <td>5.5<\/td>\n",
              "      <td>85.0<\/td>\n",
              "      <td>2.49<\/td>\n",
              "      <td>Norte<\/td>\n",
              "    <\/tr>\n",
              "  <\/tbody>\n",
              "<\/table>\n",
              "<\/div>"
            ]
          },
          "metadata":{
            
          },
          "output_type":"display_data"
        }
      ],
      "metadata":{
        "datalore":{
          "sheet_delimiter":false
        }
      }
    },
    {
      "cell_type":"code",
      "source":[
        "df['Óbitos'].describe()"
      ],
      "execution_count":33,
      "outputs":[
        {
          "data":{
            "text\/html":[
              
            ]
          },
          "metadata":{
            
          },
          "output_type":"display_data"
        }
      ],
      "metadata":{
        "datalore":{
          "sheet_delimiter":false
        }
      }
    },
    {
      "cell_type":"markdown",
      "source":[
        "Esse resumos estatisticos nos mostram que a media de obitos e de 1804 e a mediana de 815 com um desvio padrao de 2504, tambem vemos que o menor valor de obitos e de 85, e o maior e de 11988"
      ],
      "attachments":{
        
      },
      "metadata":{
        "datalore":{
          "sheet_delimiter":false
        }
      }
    },
    {
      "cell_type":"code",
      "source":[
        "sns.histplot(data=df, x='Óbitos', kde=True)\n",
        "plt.title('Distribuiçao de Obitos')\n",
        "plt.show()"
      ],
      "execution_count":34,
      "outputs":[
        {
          "data":{
            "image\/png":"[encoded data removed]"
          },
          "metadata":{
            "image\/png":{
              
            }
          },
          "output_type":"display_data"
        }
      ],
      "metadata":{
        "datalore":{
          "sheet_delimiter":false
        }
      }
    },
    {
      "cell_type":"markdown",
      "source":[
        "nosso histograma mostra que a maior parte dos nossos dados e entre 0 a 1500."
      ],
      "attachments":{
        
      },
      "metadata":{
        "datalore":{
          "sheet_delimiter":false
        }
      }
    },
    {
      "cell_type":"code",
      "source":[
        "g = sns.catplot(y='Região\/Unidade da Federação', x ='Óbitos', data=df, kind='bar')\n",
        "g.fig.suptitle('Estados e Obitos')\n",
        "g.fig.subplots_adjust(top=0.9)\n",
        "g.set_ylabels('Estados', fontsize=10)\n",
        "g.set_xlabels('Numero de Óbitos', fontsize=10)\n",
        "plt.show()"
      ],
      "execution_count":35,
      "outputs":[
        {
          "data":{
            "image\/png":"[encoded data removed]"
          },
          "metadata":{
            "image\/png":{
              
            }
          },
          "output_type":"display_data"
        }
      ],
      "metadata":{
        "datalore":{
          "sheet_delimiter":false
        }
      }
    },
    {
      "cell_type":"markdown",
      "source":[
        "Aqui podemos observar que São Paulo novamente aparece como o maior valor dentro do nosso dataset, com aproximadamente 12000 obitos, e Minas Gerais e Rio de Janeiro aparecem em seguida, esse grafico nos mostra que a região sudeste e lider em numero de Óbitos, mas para termos certeza, vamos ver o numero por regiao."
      ],
      "attachments":{
        
      },
      "metadata":{
        "datalore":{
          "sheet_delimiter":false
        }
      }
    },
    {
      "cell_type":"code",
      "source":[
        "g = sns.catplot(y='Óbitos', x = 'Regiao', data=df, kind='bar', estimator=sum)\n",
        "g.fig.suptitle('Obitos e regiao')\n",
        "g.fig.subplots_adjust(top=0.9)\n",
        "g.set_ylabels('Obitos', fontsize=10)\n",
        "g.set_xlabels('Regiao', fontsize=10)\n",
        "plt.show()"
      ],
      "execution_count":36,
      "outputs":[
        {
          "data":{
            "image\/png":"[encoded data removed]"
          },
          "metadata":{
            "image\/png":{
              
            }
          },
          "output_type":"display_data"
        }
      ],
      "metadata":{
        "datalore":{
          "sheet_delimiter":false
        }
      }
    },
    {
      "cell_type":"markdown",
      "source":[
        "Vemos que realmente a regiao sudeste e lider no numero de obitos com uma media de quase 6000, e a regiao norte a com o menor valor de media de mortes."
      ],
      "attachments":{
        
      },
      "metadata":{
        "datalore":{
          "sheet_delimiter":false
        }
      }
    },
    {
      "cell_type":"code",
      "source":[
        "df.head()"
      ],
      "execution_count":37,
      "outputs":[
        {
          "data":{
            "text\/html":[
              "<div>\n",
              "<style scoped>\n",
              "    .dataframe tbody tr th:only-of-type {\n",
              "        vertical-align: middle;\n",
              "    }\n",
              "\n",
              "    .dataframe tbody tr th {\n",
              "        vertical-align: top;\n",
              "    }\n",
              "\n",
              "    .dataframe thead th {\n",
              "        text-align: right;\n",
              "    }\n",
              "<\/style>\n",
              "<table border=\"1\" class=\"dataframe\">\n",
              "  <thead>\n",
              "    <tr style=\"text-align: right;\">\n",
              "      <th><\/th>\n",
              "      <th>Região\/Unidade da Federação<\/th>\n",
              "      <th>Internações<\/th>\n",
              "      <th>AIH_aprovadas<\/th>\n",
              "      <th>Valor_total<\/th>\n",
              "      <th>Valor_serviços_hospitalares<\/th>\n",
              "      <th>Val_serv_hosp_-_compl_federal<\/th>\n",
              "      <th>Val_serv_hosp_-_compl_gestor<\/th>\n",
              "      <th>Valor_serviços_profissionais<\/th>\n",
              "      <th>Val_serv_prof_-_compl_federal<\/th>\n",
              "      <th>Val_serv_prof_-_compl_gestor<\/th>\n",
              "      <th>Valor_médio_AIH<\/th>\n",
              "      <th>Valor_médio_intern<\/th>\n",
              "      <th>Dias_permanência<\/th>\n",
              "      <th>Média_permanência<\/th>\n",
              "      <th>Óbitos<\/th>\n",
              "      <th>Taxa_mortalidade<\/th>\n",
              "      <th>Regiao<\/th>\n",
              "    <\/tr>\n",
              "  <\/thead>\n",
              "  <tbody>\n",
              "    <tr>\n",
              "      <th>1<\/th>\n",
              "      <td>Rondônia<\/td>\n",
              "      <td>9603.0<\/td>\n",
              "      <td>9603.0<\/td>\n",
              "      <td>9404751.41<\/td>\n",
              "      <td>7666945.90<\/td>\n",
              "      <td>-<\/td>\n",
              "      <td>-<\/td>\n",
              "      <td>1737805.51<\/td>\n",
              "      <td>-<\/td>\n",
              "      <td>-<\/td>\n",
              "      <td>979.36<\/td>\n",
              "      <td>979.36<\/td>\n",
              "      <td>53043.0<\/td>\n",
              "      <td>5.5<\/td>\n",
              "      <td>315.0<\/td>\n",
              "      <td>3.28<\/td>\n",
              "      <td>Norte<\/td>\n",
              "    <\/tr>\n",
              "    <tr>\n",
              "      <th>2<\/th>\n",
              "      <td>Amazonas<\/td>\n",
              "      <td>16248.0<\/td>\n",
              "      <td>16248.0<\/td>\n",
              "      <td>15624312.73<\/td>\n",
              "      <td>12166634.07<\/td>\n",
              "      <td>1221.31<\/td>\n",
              "      <td>-<\/td>\n",
              "      <td>3455637.92<\/td>\n",
              "      <td>-<\/td>\n",
              "      <td>-<\/td>\n",
              "      <td>961.61<\/td>\n",
              "      <td>961.61<\/td>\n",
              "      <td>85512.0<\/td>\n",
              "      <td>5.3<\/td>\n",
              "      <td>536.0<\/td>\n",
              "      <td>3.30<\/td>\n",
              "      <td>Norte<\/td>\n",
              "    <\/tr>\n",
              "    <tr>\n",
              "      <th>3<\/th>\n",
              "      <td>Roraima<\/td>\n",
              "      <td>4324.0<\/td>\n",
              "      <td>4324.0<\/td>\n",
              "      <td>3137537.40<\/td>\n",
              "      <td>2356231.68<\/td>\n",
              "      <td>-<\/td>\n",
              "      <td>-<\/td>\n",
              "      <td>781305.72<\/td>\n",
              "      <td>-<\/td>\n",
              "      <td>-<\/td>\n",
              "      <td>725.61<\/td>\n",
              "      <td>725.61<\/td>\n",
              "      <td>25560.0<\/td>\n",
              "      <td>5.9<\/td>\n",
              "      <td>171.0<\/td>\n",
              "      <td>3.95<\/td>\n",
              "      <td>Norte<\/td>\n",
              "    <\/tr>\n",
              "    <tr>\n",
              "      <th>4<\/th>\n",
              "      <td>Pará<\/td>\n",
              "      <td>34774.0<\/td>\n",
              "      <td>34774.0<\/td>\n",
              "      <td>28178633.44<\/td>\n",
              "      <td>21241354.07<\/td>\n",
              "      <td>248197.25<\/td>\n",
              "      <td>-<\/td>\n",
              "      <td>6581738.70<\/td>\n",
              "      <td>-<\/td>\n",
              "      <td>-<\/td>\n",
              "      <td>810.34<\/td>\n",
              "      <td>810.34<\/td>\n",
              "      <td>138135.0<\/td>\n",
              "      <td>4.0<\/td>\n",
              "      <td>832.0<\/td>\n",
              "      <td>2.39<\/td>\n",
              "      <td>Norte<\/td>\n",
              "    <\/tr>\n",
              "    <tr>\n",
              "      <th>5<\/th>\n",
              "      <td>Amapá<\/td>\n",
              "      <td>3407.0<\/td>\n",
              "      <td>3407.0<\/td>\n",
              "      <td>2380727.69<\/td>\n",
              "      <td>1776869.35<\/td>\n",
              "      <td>-<\/td>\n",
              "      <td>-<\/td>\n",
              "      <td>603858.34<\/td>\n",
              "      <td>-<\/td>\n",
              "      <td>-<\/td>\n",
              "      <td>698.78<\/td>\n",
              "      <td>698.78<\/td>\n",
              "      <td>18703.0<\/td>\n",
              "      <td>5.5<\/td>\n",
              "      <td>85.0<\/td>\n",
              "      <td>2.49<\/td>\n",
              "      <td>Norte<\/td>\n",
              "    <\/tr>\n",
              "  <\/tbody>\n",
              "<\/table>\n",
              "<\/div>"
            ]
          },
          "metadata":{
            
          },
          "output_type":"display_data"
        }
      ],
      "metadata":{
        "datalore":{
          "sheet_delimiter":false
        }
      }
    },
    {
      "cell_type":"code",
      "source":[
        "pd.pivot_table(df, index=['Regiao'], values=[\"Óbitos\", 'Internações'],aggfunc=np.sum)"
      ],
      "execution_count":38,
      "outputs":[
        {
          "data":{
            "text\/html":[
              "<div>\n",
              "<style scoped>\n",
              "    .dataframe tbody tr th:only-of-type {\n",
              "        vertical-align: middle;\n",
              "    }\n",
              "\n",
              "    .dataframe tbody tr th {\n",
              "        vertical-align: top;\n",
              "    }\n",
              "\n",
              "    .dataframe thead th {\n",
              "        text-align: right;\n",
              "    }\n",
              "<\/style>\n",
              "<table border=\"1\" class=\"dataframe\">\n",
              "  <thead>\n",
              "    <tr style=\"text-align: right;\">\n",
              "      <th><\/th>\n",
              "      <th>Internações<\/th>\n",
              "      <th>Óbitos<\/th>\n",
              "    <\/tr>\n",
              "    <tr>\n",
              "      <th>Regiao<\/th>\n",
              "      <th><\/th>\n",
              "      <th><\/th>\n",
              "    <\/tr>\n",
              "  <\/thead>\n",
              "  <tbody>\n",
              "    <tr>\n",
              "      <th>Centro-Oeste<\/th>\n",
              "      <td>78785.0<\/td>\n",
              "      <td>2965.0<\/td>\n",
              "    <\/tr>\n",
              "    <tr>\n",
              "      <th>Nordeste<\/th>\n",
              "      <td>267944.0<\/td>\n",
              "      <td>10575.0<\/td>\n",
              "    <\/tr>\n",
              "    <tr>\n",
              "      <th>Norte<\/th>\n",
              "      <td>75363.0<\/td>\n",
              "      <td>2149.0<\/td>\n",
              "    <\/tr>\n",
              "    <tr>\n",
              "      <th>Sudeste<\/th>\n",
              "      <td>408395.0<\/td>\n",
              "      <td>22652.0<\/td>\n",
              "    <\/tr>\n",
              "    <tr>\n",
              "      <th>Sul<\/th>\n",
              "      <td>187638.0<\/td>\n",
              "      <td>8583.0<\/td>\n",
              "    <\/tr>\n",
              "  <\/tbody>\n",
              "<\/table>\n",
              "<\/div>"
            ]
          },
          "metadata":{
            
          },
          "output_type":"display_data"
        }
      ],
      "metadata":{
        "datalore":{
          "sheet_delimiter":false
        }
      }
    },
    {
      "cell_type":"code",
      "source":[
        "g = sns.relplot(data=df, y='Internações', x='Óbitos', hue='Regiao')\n",
        "g.fig.suptitle(\"Media de permanencia x Obitos\")\n",
        "g.fig.subplots_adjust(top=0.9)\n",
        "plt.show()"
      ],
      "execution_count":39,
      "outputs":[
        {
          "data":{
            "image\/png":"[encoded data removed]"
          },
          "metadata":{
            "image\/png":{
              
            }
          },
          "output_type":"display_data"
        }
      ],
      "metadata":{
        "datalore":{
          "sheet_delimiter":false
        }
      }
    },
    {
      "cell_type":"markdown",
      "source":[
        "Com o PivotTable podemos ver a soma total das regioes e os obitos, tudo somado, agora podemos ver por exemplo que no sudeste e onde ha maior taxa de obitos em relaçao a internaçoes em seguida tem a regiao nordeste"
      ],
      "attachments":{
        
      },
      "metadata":{
        "datalore":{
          "sheet_delimiter":false
        }
      }
    },
    {
      "cell_type":"code",
      "source":[
        "df.head()"
      ],
      "execution_count":40,
      "outputs":[
        {
          "data":{
            "text\/html":[
              "<div>\n",
              "<style scoped>\n",
              "    .dataframe tbody tr th:only-of-type {\n",
              "        vertical-align: middle;\n",
              "    }\n",
              "\n",
              "    .dataframe tbody tr th {\n",
              "        vertical-align: top;\n",
              "    }\n",
              "\n",
              "    .dataframe thead th {\n",
              "        text-align: right;\n",
              "    }\n",
              "<\/style>\n",
              "<table border=\"1\" class=\"dataframe\">\n",
              "  <thead>\n",
              "    <tr style=\"text-align: right;\">\n",
              "      <th><\/th>\n",
              "      <th>Região\/Unidade da Federação<\/th>\n",
              "      <th>Internações<\/th>\n",
              "      <th>AIH_aprovadas<\/th>\n",
              "      <th>Valor_total<\/th>\n",
              "      <th>Valor_serviços_hospitalares<\/th>\n",
              "      <th>Val_serv_hosp_-_compl_federal<\/th>\n",
              "      <th>Val_serv_hosp_-_compl_gestor<\/th>\n",
              "      <th>Valor_serviços_profissionais<\/th>\n",
              "      <th>Val_serv_prof_-_compl_federal<\/th>\n",
              "      <th>Val_serv_prof_-_compl_gestor<\/th>\n",
              "      <th>Valor_médio_AIH<\/th>\n",
              "      <th>Valor_médio_intern<\/th>\n",
              "      <th>Dias_permanência<\/th>\n",
              "      <th>Média_permanência<\/th>\n",
              "      <th>Óbitos<\/th>\n",
              "      <th>Taxa_mortalidade<\/th>\n",
              "      <th>Regiao<\/th>\n",
              "    <\/tr>\n",
              "  <\/thead>\n",
              "  <tbody>\n",
              "    <tr>\n",
              "      <th>1<\/th>\n",
              "      <td>Rondônia<\/td>\n",
              "      <td>9603.0<\/td>\n",
              "      <td>9603.0<\/td>\n",
              "      <td>9404751.41<\/td>\n",
              "      <td>7666945.90<\/td>\n",
              "      <td>-<\/td>\n",
              "      <td>-<\/td>\n",
              "      <td>1737805.51<\/td>\n",
              "      <td>-<\/td>\n",
              "      <td>-<\/td>\n",
              "      <td>979.36<\/td>\n",
              "      <td>979.36<\/td>\n",
              "      <td>53043.0<\/td>\n",
              "      <td>5.5<\/td>\n",
              "      <td>315.0<\/td>\n",
              "      <td>3.28<\/td>\n",
              "      <td>Norte<\/td>\n",
              "    <\/tr>\n",
              "    <tr>\n",
              "      <th>2<\/th>\n",
              "      <td>Amazonas<\/td>\n",
              "      <td>16248.0<\/td>\n",
              "      <td>16248.0<\/td>\n",
              "      <td>15624312.73<\/td>\n",
              "      <td>12166634.07<\/td>\n",
              "      <td>1221.31<\/td>\n",
              "      <td>-<\/td>\n",
              "      <td>3455637.92<\/td>\n",
              "      <td>-<\/td>\n",
              "      <td>-<\/td>\n",
              "      <td>961.61<\/td>\n",
              "      <td>961.61<\/td>\n",
              "      <td>85512.0<\/td>\n",
              "      <td>5.3<\/td>\n",
              "      <td>536.0<\/td>\n",
              "      <td>3.30<\/td>\n",
              "      <td>Norte<\/td>\n",
              "    <\/tr>\n",
              "    <tr>\n",
              "      <th>3<\/th>\n",
              "      <td>Roraima<\/td>\n",
              "      <td>4324.0<\/td>\n",
              "      <td>4324.0<\/td>\n",
              "      <td>3137537.40<\/td>\n",
              "      <td>2356231.68<\/td>\n",
              "      <td>-<\/td>\n",
              "      <td>-<\/td>\n",
              "      <td>781305.72<\/td>\n",
              "      <td>-<\/td>\n",
              "      <td>-<\/td>\n",
              "      <td>725.61<\/td>\n",
              "      <td>725.61<\/td>\n",
              "      <td>25560.0<\/td>\n",
              "      <td>5.9<\/td>\n",
              "      <td>171.0<\/td>\n",
              "      <td>3.95<\/td>\n",
              "      <td>Norte<\/td>\n",
              "    <\/tr>\n",
              "    <tr>\n",
              "      <th>4<\/th>\n",
              "      <td>Pará<\/td>\n",
              "      <td>34774.0<\/td>\n",
              "      <td>34774.0<\/td>\n",
              "      <td>28178633.44<\/td>\n",
              "      <td>21241354.07<\/td>\n",
              "      <td>248197.25<\/td>\n",
              "      <td>-<\/td>\n",
              "      <td>6581738.70<\/td>\n",
              "      <td>-<\/td>\n",
              "      <td>-<\/td>\n",
              "      <td>810.34<\/td>\n",
              "      <td>810.34<\/td>\n",
              "      <td>138135.0<\/td>\n",
              "      <td>4.0<\/td>\n",
              "      <td>832.0<\/td>\n",
              "      <td>2.39<\/td>\n",
              "      <td>Norte<\/td>\n",
              "    <\/tr>\n",
              "    <tr>\n",
              "      <th>5<\/th>\n",
              "      <td>Amapá<\/td>\n",
              "      <td>3407.0<\/td>\n",
              "      <td>3407.0<\/td>\n",
              "      <td>2380727.69<\/td>\n",
              "      <td>1776869.35<\/td>\n",
              "      <td>-<\/td>\n",
              "      <td>-<\/td>\n",
              "      <td>603858.34<\/td>\n",
              "      <td>-<\/td>\n",
              "      <td>-<\/td>\n",
              "      <td>698.78<\/td>\n",
              "      <td>698.78<\/td>\n",
              "      <td>18703.0<\/td>\n",
              "      <td>5.5<\/td>\n",
              "      <td>85.0<\/td>\n",
              "      <td>2.49<\/td>\n",
              "      <td>Norte<\/td>\n",
              "    <\/tr>\n",
              "  <\/tbody>\n",
              "<\/table>\n",
              "<\/div>"
            ]
          },
          "metadata":{
            
          },
          "output_type":"display_data"
        }
      ],
      "metadata":{
        "datalore":{
          "sheet_delimiter":false
        }
      }
    },
    {
      "cell_type":"code",
      "source":[
        "df['Média_permanência'].describe()"
      ],
      "execution_count":41,
      "outputs":[
        {
          "data":{
            "text\/html":[
              
            ]
          },
          "metadata":{
            
          },
          "output_type":"display_data"
        }
      ],
      "metadata":{
        "datalore":{
          "sheet_delimiter":false
        }
      }
    },
    {
      "cell_type":"code",
      "source":[
        "g = sns.catplot(y='Média_permanência', x = 'Regiao', data=df, kind='bar')\n",
        "g.fig.suptitle('Media de permanencia por regiao regiao')\n",
        "g.fig.subplots_adjust(top=0.9)\n",
        "g.set_ylabels('Media de Permanencia', fontsize=10)\n",
        "g.set_xlabels('Regiao', fontsize=10)\n",
        "plt.show()"
      ],
      "execution_count":42,
      "outputs":[
        {
          "data":{
            "image\/png":"[encoded data removed]"
          },
          "metadata":{
            "image\/png":{
              
            }
          },
          "output_type":"display_data"
        }
      ],
      "metadata":{
        "datalore":{
          "sheet_delimiter":false
        }
      }
    },
    {
      "cell_type":"markdown",
      "source":[
        "podemos ver que em todos as regioes as medias de permancia sao iguais, dessa forma mostra que os dias de permencia nao interferem nos obitos"
      ],
      "attachments":{
        
      },
      "metadata":{
        "datalore":{
          "sheet_delimiter":false
        }
      }
    },
    {
      "cell_type":"code",
      "source":[
        "g = sns.relplot(data=df, y='Média_permanência', x='Óbitos', hue='Regiao')\n",
        "g.fig.suptitle(\"Media de permanencia x Obitos\")\n",
        "g.fig.subplots_adjust(top=0.9)\n",
        "plt.show()"
      ],
      "execution_count":43,
      "outputs":[
        {
          "data":{
            "image\/png":"[encoded data removed]"
          },
          "metadata":{
            "image\/png":{
              
            }
          },
          "output_type":"display_data"
        }
      ],
      "metadata":{
        "datalore":{
          "sheet_delimiter":false
        }
      }
    },
    {
      "cell_type":"markdown",
      "source":[
        "Vemos que a permancencia durante a internaçao nao interfere nos obitos"
      ],
      "attachments":{
        
      },
      "metadata":{
        "datalore":{
          "sheet_delimiter":false
        }
      }
    },
    {
      "cell_type":"code",
      "source":[
        "g = sns.relplot(data=df, y='Valor_serviços_hospitalares', x='Óbitos', hue='Regiao')\n",
        "g.fig.suptitle(\"Valor dos Serviços Hospitalares x Obitos\")\n",
        "g.fig.subplots_adjust(top=0.9)\n",
        "plt.show()"
      ],
      "execution_count":44,
      "outputs":[
        {
          "data":{
            "image\/png":"[encoded data removed]"
          },
          "metadata":{
            "image\/png":{
              
            }
          },
          "output_type":"display_data"
        }
      ],
      "metadata":{
        "datalore":{
          "sheet_delimiter":false
        }
      }
    },
    {
      "cell_type":"markdown",
      "source":[
        "Vemos algo interessante com esse grafico, vemos que quanto maior o numero de obitos, maior sao os valores dos serviços hospitalares"
      ],
      "attachments":{
        
      },
      "metadata":{
        "datalore":{
          "sheet_delimiter":false
        }
      }
    }
  ],
  "metadata":{
    
  },
  "nbformat":4,
  "nbformat_minor":0
}